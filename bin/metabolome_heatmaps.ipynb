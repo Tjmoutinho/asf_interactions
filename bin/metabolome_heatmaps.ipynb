{
 "cells": [
  {
   "cell_type": "code",
   "execution_count": 1,
   "metadata": {
    "collapsed": true
   },
   "outputs": [],
   "source": [
    "library(pheatmap)\n",
    "library(plyr)"
   ]
  },
  {
   "cell_type": "code",
   "execution_count": 2,
   "metadata": {
    "collapsed": true
   },
   "outputs": [],
   "source": [
    "# Load integrals, peak ranges, and sample data\n",
    "path <- \"~/Documents/Projects/asf_interactions/data/\"\n",
    "integral_file <- 'integrals_20170323.txt'\n",
    "integral_range_file <- 'coculture_peak_ranges.txt'\n",
    "integrals = read.table(paste0(path,integral_file),header=FALSE,\n",
    "                         sep = \",\")\n",
    "integral_ranges = read.table(paste0(path,integral_range_file),header=TRUE,\n",
    "                             sep = \",\")\n",
    "master <- read.table(file=paste0(path,\"merged_metadata.txt\"),header=TRUE,sep='\\t')"
   ]
  },
  {
   "cell_type": "code",
   "execution_count": 3,
   "metadata": {
    "collapsed": false
   },
   "outputs": [],
   "source": [
    "# set column names of integrals using integral_ranges met names\n",
    "colnames(integrals) <- integral_ranges$met_name\n",
    "mets = colnames(integrals)\n",
    "# Set rownames using experiment_id. This should be ordered correctly.\n",
    "integrals$experiment_id <- master$experiment_id\n",
    "# merge so that classes and integrals are in one dataframe\n",
    "all_data <- join(master,integrals,by=\"experiment_id\")"
   ]
  },
  {
   "cell_type": "code",
   "execution_count": 4,
   "metadata": {
    "collapsed": false
   },
   "outputs": [],
   "source": [
    "# remove non-growing samples from the data\n",
    "# 500 and 492 did not grow in experiment 3\n",
    "# 502 did not grow in experiment 2 or 3\n",
    "all_data = all_data[!(all_data$Run == 2 & grepl('502',all_data$species)),]\n",
    "all_data = all_data[!(all_data$Run == 3 & grepl('502',all_data$species)),]\n",
    "all_data = all_data[!(all_data$Run == 3 & grepl('500',all_data$species)),]\n",
    "all_data = all_data[!(all_data$Run == 3 & grepl('492',all_data$species)),]\n",
    "# remove experiment 4 (3-species subset including only 356,361,519)\n",
    "all_data = all_data[all_data$Run != \"4\",]"
   ]
  },
  {
   "cell_type": "code",
   "execution_count": 5,
   "metadata": {
    "collapsed": false
   },
   "outputs": [],
   "source": [
    "# replace negative values in integrals with 0.\n",
    "all_data[,colnames(all_data) %in% mets] = \n",
    "        (apply(all_data[,colnames(all_data) %in% mets],2,function(x){x[x<0] = 0;x}))\n",
    "# center the data by subtracting the mean of blanks\n",
    "blanks = subset(all_data,species == '0')\n",
    "blank_means = colMeans(blanks[,names(blanks) %in% mets])\n",
    "centered_integrals <- sweep(all_data[,mets], 2, blank_means, `-`)\n",
    "all_data[,mets] = centered_integrals"
   ]
  },
  {
   "cell_type": "code",
   "execution_count": 6,
   "metadata": {
    "collapsed": false
   },
   "outputs": [],
   "source": [
    "known_mets = mets[-grep(\"unknown\", mets)]\n",
    "monoculture_only = all_data[all_data$species %in% c('356','360','361','492','500','502','519'),]\n",
    "# collapse columns into means\n",
    "mono356 = colMeans(monoculture_only[monoculture_only$species == '356',known_mets])\n",
    "mono360 = colMeans(monoculture_only[monoculture_only$species == '360',known_mets])\n",
    "monoculture_for_plotting = rbind(mono356,mono360)\n",
    "mono361 = colMeans(monoculture_only[monoculture_only$species == '361',known_mets])\n",
    "monoculture_for_plotting = rbind(monoculture_for_plotting,mono361)\n",
    "mono492 = colMeans(monoculture_only[monoculture_only$species == '492',known_mets])\n",
    "monoculture_for_plotting = rbind(monoculture_for_plotting,mono492)\n",
    "mono500 = colMeans(monoculture_only[monoculture_only$species == '500',known_mets])\n",
    "monoculture_for_plotting = rbind(monoculture_for_plotting,mono500)\n",
    "mono502 = colMeans(monoculture_only[monoculture_only$species == '502',known_mets])\n",
    "monoculture_for_plotting = rbind(monoculture_for_plotting,mono502)\n",
    "mono519 = colMeans(monoculture_only[monoculture_only$species == '519',known_mets])\n",
    "monoculture_for_plotting = rbind(monoculture_for_plotting,mono519)\n",
    "row.names(monoculture_for_plotting) = c('ASF356','ASF360','ASF361','ASF492','ASF500','ASF502','ASF519')\n",
    "# try min/max scaling within each column\n",
    "monoculture_for_plotting_maxnorm = sweep(monoculture_for_plotting,MARGIN=2,apply(monoculture_for_plotting,2,function(x) max(abs(x), na.rm = TRUE)), FUN=\"/\")"
   ]
  },
  {
   "cell_type": "code",
   "execution_count": 7,
   "metadata": {
    "collapsed": true
   },
   "outputs": [],
   "source": [
    "# generate a heatmap of monoculture metabolomes using the centered, max/min normalized integrals\n",
    "pheatmap(monoculture_for_plotting_maxnorm,filename='~/Documents/Projects/asf_interactions/results/monoculture_metabolome.jpg',width=9,height=3.2,cluster_rows=FALSE)"
   ]
  },
  {
   "cell_type": "code",
   "execution_count": 8,
   "metadata": {
    "collapsed": true
   },
   "outputs": [],
   "source": [
    "# Generate the same heatmap for mono and co-cultures for supplement... just do it manually.\n",
    "nextdf = colMeans(all_data[all_data$species == '356,360',known_mets])\n",
    "coculture_plotting = rbind(monoculture_for_plotting,nextdf)\n",
    "nextdf = colMeans(all_data[all_data$species == '356,361',known_mets])\n",
    "coculture_plotting = rbind(coculture_plotting,nextdf)\n",
    "nextdf = colMeans(all_data[all_data$species == '356,492',known_mets])\n",
    "coculture_plotting = rbind(coculture_plotting,nextdf)\n",
    "nextdf = colMeans(all_data[all_data$species == '356,500',known_mets])\n",
    "coculture_plotting = rbind(coculture_plotting,nextdf)\n",
    "nextdf = colMeans(all_data[all_data$species == '356,502',known_mets])\n",
    "coculture_plotting = rbind(coculture_plotting,nextdf)\n",
    "nextdf = colMeans(all_data[all_data$species == '356,519',known_mets])\n",
    "coculture_plotting = rbind(coculture_plotting,nextdf)\n",
    "nextdf = colMeans(all_data[all_data$species == '360,361',known_mets])\n",
    "coculture_plotting = rbind(coculture_plotting,nextdf)\n",
    "nextdf = colMeans(all_data[all_data$species == '360,492',known_mets])\n",
    "coculture_plotting = rbind(coculture_plotting,nextdf)\n",
    "nextdf = colMeans(all_data[all_data$species == '360,500',known_mets])\n",
    "coculture_plotting = rbind(coculture_plotting,nextdf)\n",
    "nextdf = colMeans(all_data[all_data$species == '360,502',known_mets])\n",
    "coculture_plotting = rbind(coculture_plotting,nextdf)\n",
    "nextdf = colMeans(all_data[all_data$species == '360,519',known_mets])\n",
    "coculture_plotting = rbind(coculture_plotting,nextdf)\n",
    "nextdf = colMeans(all_data[all_data$species == '361,492',known_mets])\n",
    "coculture_plotting = rbind(coculture_plotting,nextdf)\n",
    "nextdf = colMeans(all_data[all_data$species == '361,500',known_mets])\n",
    "coculture_plotting = rbind(coculture_plotting,nextdf)\n",
    "nextdf = colMeans(all_data[all_data$species == '361,502',known_mets])\n",
    "coculture_plotting = rbind(coculture_plotting,nextdf)\n",
    "nextdf = colMeans(all_data[all_data$species == '361,519',known_mets])\n",
    "coculture_plotting = rbind(coculture_plotting,nextdf)\n",
    "nextdf = colMeans(all_data[all_data$species == '492,500',known_mets])\n",
    "coculture_plotting = rbind(coculture_plotting,nextdf)\n",
    "nextdf = colMeans(all_data[all_data$species == '492,502',known_mets])\n",
    "coculture_plotting = rbind(coculture_plotting,nextdf)\n",
    "nextdf = colMeans(all_data[all_data$species == '492,519',known_mets])\n",
    "coculture_plotting = rbind(coculture_plotting,nextdf)\n",
    "nextdf = colMeans(all_data[all_data$species == '500,502',known_mets])\n",
    "coculture_plotting = rbind(coculture_plotting,nextdf)\n",
    "nextdf = colMeans(all_data[all_data$species == '500,519',known_mets])\n",
    "coculture_plotting = rbind(coculture_plotting,nextdf)\n",
    "nextdf = colMeans(all_data[all_data$species == '502,519',known_mets])\n",
    "coculture_plotting = rbind(coculture_plotting,nextdf)\n",
    "row.names(coculture_plotting) = c('ASF356','ASF360','ASF361','ASF492','ASF500','ASF502','ASF519',\n",
    "                                        'ASF356+360','ASF356+361','ASF356+492','ASF356+500','ASF356+502','ASF356+519',\n",
    "                                        'ASF360+361','ASF360+492','ASF360+500','ASF360+502','ASF360+519',\n",
    "                                        'ASF361+492','ASF361+500','ASF361+502','ASF361+519',\n",
    "                                        'ASF492+500','ASF492+502','ASF492+519',\n",
    "                                        'ASF500+502','ASF500+519',\n",
    "                                        'ASF502+519')\n",
    "coculture_plotting_maxnorm = sweep(coculture_plotting,MARGIN=2,apply(coculture_plotting,2,function(x) max(abs(x), na.rm = TRUE)), FUN=\"/\")\n",
    "\n",
    "pheatmap(coculture_plotting_maxnorm,filename='~/Documents/Projects/asf_interactions/results/coculture_metabolome.jpg',width=9,height=6,cluster_rows=TRUE)"
   ]
  }
 ],
 "metadata": {
  "kernelspec": {
   "display_name": "R",
   "language": "R",
   "name": "ir"
  },
  "language_info": {
   "codemirror_mode": "r",
   "file_extension": ".r",
   "mimetype": "text/x-r-source",
   "name": "R",
   "pygments_lexer": "r",
   "version": "3.4.2"
  }
 },
 "nbformat": 4,
 "nbformat_minor": 2
}
