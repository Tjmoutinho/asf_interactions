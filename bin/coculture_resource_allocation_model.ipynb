{
 "cells": [
  {
   "cell_type": "code",
   "execution_count": 10,
   "metadata": {
    "collapsed": true
   },
   "outputs": [],
   "source": [
    "%matplotlib inline\n",
    "import pandas as pd\n",
    "import numpy as np\n",
    "from sklearn import linear_model\n",
    "import matplotlib.pylab as plt"
   ]
  },
  {
   "cell_type": "code",
   "execution_count": 11,
   "metadata": {
    "collapsed": false
   },
   "outputs": [],
   "source": [
    "# read in the data\n",
    "integrals = pd.read_csv('../data/integrals_20170323.txt',sep=',',header=None)\n",
    "integral_ranges = pd.read_csv('../data/coculture_peak_ranges.txt',sep=',')\n",
    "master = pd.read_csv('../data/merged_metadata.txt',sep='\\t')"
   ]
  },
  {
   "cell_type": "code",
   "execution_count": 12,
   "metadata": {
    "collapsed": false
   },
   "outputs": [],
   "source": [
    "integrals.columns = integral_ranges['met_name']\n",
    "mets = integrals.columns # grab metabolite names for future use\n",
    "integrals['experiment_id'] = master['experiment_id']\n",
    "all_data = pd.merge(master,integrals,on='experiment_id')\n",
    "\n",
    "#remove non-growing samples\n",
    "all_data = all_data.loc[~((all_data['Run'] == 2) & (all_data['species'].str.find('502') > -1))]\n",
    "all_data = all_data.loc[~((all_data['Run'] == 3) & (all_data['species'].str.find('502') > -1))]\n",
    "all_data = all_data.loc[~((all_data['Run'] == 3) & (all_data['species'].str.find('500') > -1))]\n",
    "all_data = all_data.loc[~((all_data['Run'] == 3) & (all_data['species'].str.find('492') > -1))]\n",
    "# remove run 4\n",
    "all_data = all_data.loc[~(all_data['Run'] == 4)]"
   ]
  },
  {
   "cell_type": "code",
   "execution_count": 13,
   "metadata": {
    "collapsed": false
   },
   "outputs": [],
   "source": [
    "# Set negative values as 0\n",
    "all_data[mets] = all_data[mets].clip(0)\n",
    "# scale all metabolites by their max value\n",
    "all_data[mets] = all_data[mets]/all_data[mets].max()"
   ]
  },
  {
   "cell_type": "code",
   "execution_count": 14,
   "metadata": {
    "collapsed": false
   },
   "outputs": [],
   "source": [
    "# Get the initial concentration of all metabolites using the blanks\n",
    "init_conc = all_data.loc[all_data['species'] == '0'][mets].mean()\n",
    "\n",
    "# For each species, calculate the change of the metabolite per unit biomass\n",
    "ratios = {}\n",
    "species = ['356','360','361','492','500','519']\n",
    "for specie in species:\n",
    "    ratios[specie] = {}\n",
    "    for met in mets:\n",
    "        init = init_conc[met]\n",
    "        final = all_data.loc[all_data['species'] == specie][met].mean()\n",
    "        qpcr_name = [col for col in all_data.columns if col.find(specie) > -1]\n",
    "        abundance = all_data.loc[all_data['species'] == specie][qpcr_name].mean().values[0]\n",
    "        ratio = (final - init)/abundance\n",
    "        ratios[specie][met] = ratio\n",
    "# convert to dataframe\n",
    "ratios = pd.DataFrame(ratios)"
   ]
  },
  {
   "cell_type": "code",
   "execution_count": 15,
   "metadata": {
    "collapsed": false
   },
   "outputs": [],
   "source": [
    "# for each species pairing, generate a linear model to infer an interaction term\n",
    "species_used = []\n",
    "for species_1 in species:\n",
    "    species_1_qpcr = [col for col in all_data.columns if col.find(species_1) > -1]\n",
    "    species_1_subset = all_data.loc[all_data['species'].str.find(species_1) > -1]\n",
    "    species_used.append(species_1)\n",
    "    for species_2 in species:\n",
    "        if species_2 not in species_used:\n",
    "            species_2_qpcr = [col for col in all_data.columns if col.find(species_2) > -1]\n",
    "            \n",
    "            # get the abundance of each species in every sample\n",
    "            samples = species_1_subset.loc[species_1_subset['species'].str.find(species_2) > -1]\n",
    "            species_1_abundances = samples[species_1_qpcr]\n",
    "            species_2_abundances = samples[species_2_qpcr]\n",
    "            for met in mets:\n",
    "                final_conc = samples[met]\n",
    "                conc_change = final_conc - init_conc[met]\n",
    "                expected_change_species_1 = (species_1_abundances * ratios.loc[met,species_1]).transpose().values[0]\n",
    "                expected_change_species_2 = (species_2_abundances * ratios.loc[met,species_2]).transpose().values[0]\n",
    "                total_expected = np.add(expected_change_species_1,expected_change_species_2)\n",
    "                total_with_init = np.subtract(conc_change, total_expected)\n",
    "                \n",
    "                "
   ]
  },
  {
   "cell_type": "code",
   "execution_count": 16,
   "metadata": {
    "collapsed": false
   },
   "outputs": [
    {
     "name": "stderr",
     "output_type": "stream",
     "text": [
      "/home/greg/Envs/cobra6/lib/python3.5/site-packages/ipykernel_launcher.py:2: FutureWarning: reshape is deprecated and will raise in a subsequent release. Please use .values.reshape(...) instead\n",
      "  \n"
     ]
    },
    {
     "data": {
      "text/plain": [
       "Lasso(alpha=1.0, copy_X=True, fit_intercept=True, max_iter=1000,\n",
       "   normalize=False, positive=False, precompute=False, random_state=None,\n",
       "   selection='cyclic', tol=0.0001, warm_start=False)"
      ]
     },
     "execution_count": 16,
     "metadata": {},
     "output_type": "execute_result"
    }
   ],
   "source": [
    "clf = linear_model.Lasso()\n",
    "clf.fit(total_expected.reshape(-1,1),conc_change.reshape(-1,1))"
   ]
  },
  {
   "cell_type": "code",
   "execution_count": 17,
   "metadata": {
    "collapsed": false
   },
   "outputs": [
    {
     "data": {
      "text/plain": [
       "array([-0.2267071])"
      ]
     },
     "execution_count": 17,
     "metadata": {},
     "output_type": "execute_result"
    }
   ],
   "source": [
    "clf.intercept_"
   ]
  },
  {
   "cell_type": "code",
   "execution_count": 18,
   "metadata": {
    "collapsed": false
   },
   "outputs": [
    {
     "name": "stderr",
     "output_type": "stream",
     "text": [
      "/home/greg/Envs/cobra6/lib/python3.5/site-packages/ipykernel_launcher.py:2: FutureWarning: reshape is deprecated and will raise in a subsequent release. Please use .values.reshape(...) instead\n",
      "  \n"
     ]
    },
    {
     "data": {
      "text/plain": [
       "<matplotlib.collections.PathCollection at 0x7f62dabea908>"
      ]
     },
     "execution_count": 18,
     "metadata": {},
     "output_type": "execute_result"
    },
    {
     "data": {
      "image/png": "[encoded data removed]",
      "text/plain": [
       "<matplotlib.figure.Figure at 0x7f62dabda780>"
      ]
     },
     "metadata": {},
     "output_type": "display_data"
    }
   ],
   "source": [
    "fig,ax = plt.subplots()\n",
    "ax.scatter(x=total_expected.reshape(-1,1),y=conc_change.reshape(-1,1))"
   ]
  },
  {
   "cell_type": "code",
   "execution_count": 21,
   "metadata": {
    "collapsed": false
   },
   "outputs": [
    {
     "data": {
      "text/plain": [
       "-0.06171823935444009"
      ]
     },
     "execution_count": 21,
     "metadata": {},
     "output_type": "execute_result"
    }
   ],
   "source": [
    "np.mean(total_expected)"
   ]
  },
  {
   "cell_type": "code",
   "execution_count": 22,
   "metadata": {
    "collapsed": false
   },
   "outputs": [
    {
     "data": {
      "text/plain": [
       "-0.22670710279923942"
      ]
     },
     "execution_count": 22,
     "metadata": {},
     "output_type": "execute_result"
    }
   ],
   "source": [
    "np.mean(conc_change)"
   ]
  }
 ],
 "metadata": {
  "kernelspec": {
   "display_name": "cobra6",
   "language": "python",
   "name": "cobra6"
  },
  "language_info": {
   "codemirror_mode": {
    "name": "ipython",
    "version": 3
   },
   "file_extension": ".py",
   "mimetype": "text/x-python",
   "name": "python",
   "nbconvert_exporter": "python",
   "pygments_lexer": "ipython3",
   "version": "3.5.2"
  }
 },
 "nbformat": 4,
 "nbformat_minor": 2
}
