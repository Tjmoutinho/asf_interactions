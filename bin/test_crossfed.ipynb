{
 "cells": [
  {
   "cell_type": "code",
   "execution_count": 84,
   "metadata": {
    "collapsed": true
   },
   "outputs": [],
   "source": [
    "%matplotlib inline\n",
    "import pandas as pd\n",
    "import os\n",
    "import json\n",
    "import cobra\n",
    "import medusa\n",
    "import task_utilities as task_utils"
   ]
  },
  {
   "cell_type": "code",
   "execution_count": 58,
   "metadata": {
    "collapsed": false
   },
   "outputs": [
    {
     "name": "stdout",
     "output_type": "stream",
     "text": [
      "loaded ensemble base model from ASF519_base_model.json\n",
      "loaded reaction diff from ASF361_base_model_reaction_diffs.json\n",
      "loaded ensemble base model from ASF356_base_model.json\n",
      "loaded ensemble base model from ASF361_base_model.json\n",
      "loaded reaction diff from ASF519_base_model_reaction_diffs.json\n",
      "loaded reaction diff from ASF356_base_model_reaction_diffs.json\n"
     ]
    }
   ],
   "source": [
    "# Load data necessary to load the models\n",
    "model_dir = '../data/reconstructions/'\n",
    "model_dict = {}\n",
    "reaction_diff_dict = {}\n",
    "for fname in os.listdir(model_dir):\n",
    "    species = fname.split('_')[0]\n",
    "    if fname.find('reaction_diff') > 0:\n",
    "        with open(model_dir+fname,'r') as jsonfile:\n",
    "            reaction_diff_dict[species] = json.load(jsonfile)\n",
    "        print(\"loaded reaction diff from \" + fname)\n",
    "    elif fname.startswith('ASF'):\n",
    "        model = cobra.io.load_json_model(model_dir+fname)\n",
    "        model_dict[species] = model\n",
    "        print(\"loaded ensemble base model from \" + fname)"
   ]
  },
  {
   "cell_type": "code",
   "execution_count": 59,
   "metadata": {
    "collapsed": true
   },
   "outputs": [],
   "source": [
    "ensemble_dict = {}\n",
    "for species in model_dict.keys():\n",
    "    ensemble = medusa.Ensemble(base_id=species)\n",
    "    ensemble.base_model = model_dict[species]\n",
    "    # load only the first 100 reaction diffs to get 100 models\n",
    "    to_keep = [species+'_'+str(i) for i in range(1,101)]\n",
    "    ensemble.reaction_diffs = {single_model:reaction_diff_dict[species][single_model] for single_model in to_keep}\n",
    "    ensemble_dict[species] = ensemble"
   ]
  },
  {
   "cell_type": "code",
   "execution_count": 60,
   "metadata": {
    "collapsed": false
   },
   "outputs": [
    {
     "name": "stdout",
     "output_type": "stream",
     "text": [
      "WARNING: metabolite cpd05178_c is not in universal model. Excluded from media.\n"
     ]
    }
   ],
   "source": [
    "# laod the media condition\n",
    "# load universal model (needed to set media)\n",
    "universal = cobra.io.load_json_model('../data/reconstructions/seed_universal.json')\n",
    "# create a media dictionary for setting model bounds\n",
    "mLB_dict = task_utils.create_media_dict('../data/reconstructions/ammended_media.csv', universal, estimated_uptake=True)\n"
   ]
  },
  {
   "cell_type": "code",
   "execution_count": 75,
   "metadata": {
    "collapsed": false
   },
   "outputs": [],
   "source": [
    "# for each model, set the media condition, set biomass as objective, then simulate growth and save values\n",
    "mLB_growth = {}\n",
    "for species in ensemble_dict.keys():\n",
    "    task_utils.set_media(ensemble_dict[species].base_model,mLB_dict)\n",
    "    ensemble_dict[species].base_model.objective = 'bio1'\n",
    "    growth = ensemble_dict[species].optimize_ensemble(return_flux=['bio1'])\n",
    "    mLB_growth[species] = {key:growth[key]['bio1'] for key in growth.keys()}"
   ]
  },
  {
   "cell_type": "code",
   "execution_count": 95,
   "metadata": {
    "collapsed": false
   },
   "outputs": [],
   "source": [
    "# supplment media with putative cross-fed metabolites to see if it improves growth\n",
    "# For 356, supplement valine, choline, isoleucine, proline, formate, and alanine\n",
    "mets_356 = {'valine':'cpd00156','choline':'cpd00098','isoleucine':'cpd00322',\\\n",
    "            'proline':'cpd00129','formate':'cpd00047','alanine':'cpd00035'}\n",
    "# Glutamate and adenine were not consumed by 356 in monoculture, but were produced by 519 and \n",
    "# less abundant than anticipated in coculture\n",
    "# for 361, supplement Proline, Fumarate, UMP, Hypoxanthine, Lactate, and AMP\n",
    "mets_361 = {'proline':'cpd00129','fumarate':'cpd00106'}\n",
    "# For 519, supplement ump, hypoxanthine, lactate, and amp (from 361 co-culture) and ump, \n",
    "# butyrate, isobutyrate, isocaproate, amp, inosine, isovalerate, and hypoxanthine (from 356 co-culture)\n",
    "# isocaproate is not in modelSEED\n",
    "\n",
    "mets_519 = {'ump':'cpd00091','hypoxanthine':'cpd00226',\\\n",
    "            'lactate':'cpd00159','amp':'cpd00018','butyrate':'cpd00094',\\\n",
    "           'isobutyrate':'cpd01711','amp':'cpd00018','inosine':'cpd00246','isovalerate':'cpd05178'}\n",
    "not_supplemented_356 ={}\n",
    "supplemented_356 = {}\n",
    "not_supplemented_361 ={}\n",
    "supplemented_361 = {}\n",
    "not_supplemented_519 ={}\n",
    "supplemented_519 = {}\n",
    "for met in mets_356.keys():\n",
    "    # knock out the metabolite and get the growth rate\n",
    "    # check for exchange in model first\n",
    "    ex_rxns = [rxn.id for rxn in ensemble_dict['ASF356'].base_model.reactions]\n",
    "    if 'EX_'+mets_356[met]+'_e' in ex_rxns:\n",
    "        old_bound = ensemble_dict['ASF356'].base_model.reactions.get_by_id('EX_'+mets_356[met]+'_e').lower_bound\n",
    "        ensemble_dict['ASF356'].base_model.reactions.get_by_id('EX_'+mets_356[met]+'_e').lower_bound = 0\n",
    "        wout_supplement = ensemble_dict['ASF356'].optimize_ensemble(return_flux=['bio1'])\n",
    "        not_supplemented_356[met] = {key:wout_supplement[key]['bio1'] for key in wout_supplement.keys()}\n",
    "\n",
    "        # supplement the compound and see to what extent growth increases\n",
    "        ensemble_dict['ASF356'].base_model.reactions.get_by_id('EX_'+mets_356[met]+'_e').lower_bound = -100\n",
    "        w_supplement = ensemble_dict['ASF356'].optimize_ensemble(return_flux=['bio1'])\n",
    "        supplemented_356[met] = {key:w_supplement[key]['bio1'] for key in w_supplement.keys()}\n",
    "\n",
    "        # reset the bounds to the original bounds\n",
    "        ensemble_dict['ASF356'].base_model.reactions.get_by_id('EX_'+mets_356[met]+'_e').lower_bound = old_bound\n",
    "    \n",
    "for met in mets_361.keys():\n",
    "    # knock out the metabolite and get the growth rate\n",
    "    ex_rxns = [rxn.id for rxn in ensemble_dict['ASF361'].base_model.reactions]\n",
    "    if 'EX_'+mets_361[met]+'_e' in ex_rxns:\n",
    "        old_bound = ensemble_dict['ASF361'].base_model.reactions.get_by_id('EX_'+mets_361[met]+'_e').lower_bound\n",
    "        ensemble_dict['ASF361'].base_model.reactions.get_by_id('EX_'+mets_361[met]+'_e').lower_bound = 0\n",
    "        wout_supplement = ensemble_dict['ASF361'].optimize_ensemble(return_flux=['bio1'])\n",
    "        not_supplemented_361[met] = {key:wout_supplement[key]['bio1'] for key in wout_supplement.keys()}\n",
    "\n",
    "        # supplement the compound and see to what extent growth increases\n",
    "        ensemble_dict['ASF361'].base_model.reactions.get_by_id('EX_'+mets_361[met]+'_e').lower_bound = -100\n",
    "        w_supplement = ensemble_dict['ASF361'].optimize_ensemble(return_flux=['bio1'])\n",
    "        supplemented_361[met] = {key:w_supplement[key]['bio1'] for key in w_supplement.keys()}\n",
    "\n",
    "        # reset the bounds to the original bounds\n",
    "        ensemble_dict['ASF361'].base_model.reactions.get_by_id('EX_'+mets_361[met]+'_e').lower_bound = old_bound\n",
    "    \n",
    "for met in mets_519.keys():\n",
    "    # knock out the metabolite and get the growth rate\n",
    "    ex_rxns = [rxn.id for rxn in ensemble_dict['ASF519'].base_model.reactions]\n",
    "    if 'EX_'+mets_519[met]+'_e' in ex_rxns:\n",
    "        old_bound = ensemble_dict['ASF519'].base_model.reactions.get_by_id('EX_'+mets_519[met]+'_e').lower_bound\n",
    "        ensemble_dict['ASF519'].base_model.reactions.get_by_id('EX_'+mets_519[met]+'_e').lower_bound = 0\n",
    "        wout_supplement = ensemble_dict['ASF519'].optimize_ensemble(return_flux=['bio1'])\n",
    "        not_supplemented_519[met] = {key:wout_supplement[key]['bio1'] for key in wout_supplement.keys()}\n",
    "\n",
    "        # supplement the compound and see to what extent growth increases\n",
    "        ensemble_dict['ASF519'].base_model.reactions.get_by_id('EX_'+mets_519[met]+'_e').lower_bound = -100\n",
    "        w_supplement = ensemble_dict['ASF519'].optimize_ensemble(return_flux=['bio1'])\n",
    "        supplemented_519[met] = {key:w_supplement[key]['bio1'] for key in w_supplement.keys()}\n",
    "\n",
    "        # reset the bounds to the original bounds\n",
    "        ensemble_dict['ASF519'].base_model.reactions.get_by_id('EX_'+mets_519[met]+'_e').lower_bound = old_bound"
   ]
  },
  {
   "cell_type": "code",
   "execution_count": 96,
   "metadata": {
    "collapsed": false
   },
   "outputs": [
    {
     "name": "stdout",
     "output_type": "stream",
     "text": [
      "valine\n",
      "0.169079952205 0.00884640034279\n",
      "0.0 0.0\n",
      "proline\n",
      "0.169079952205 0.00884640034279\n",
      "0.169079707248 0.00884473873964\n",
      "isoleucine\n",
      "0.169079952205 0.00884640034279\n",
      "0.02503736465 0.0599382825954\n",
      "formate\n",
      "0.169079952205 0.00884640034279\n",
      "0.169079952205 0.00884640034279\n",
      "alanine\n",
      "0.169079952205 0.00884640034279\n",
      "0.168996711473 0.0088587826141\n",
      "choline\n",
      "0.169079952205 0.00884640034279\n",
      "0.169079952205 0.00884640034279\n"
     ]
    }
   ],
   "source": [
    "for met in supplemented_356.keys():\n",
    "    print(met)\n",
    "    print(pd.DataFrame.from_dict(supplemented_356[met],orient='index').mean()[0],\\\n",
    "          pd.DataFrame.from_dict(supplemented_356[met],orient='index').std()[0])\n",
    "          \n",
    "    print(pd.DataFrame.from_dict(not_supplemented_356[met],orient='index').mean()[0],\\\n",
    "         pd.DataFrame.from_dict(not_supplemented_356[met],orient='index').std()[0])"
   ]
  },
  {
   "cell_type": "code",
   "execution_count": 97,
   "metadata": {
    "collapsed": false
   },
   "outputs": [
    {
     "name": "stdout",
     "output_type": "stream",
     "text": [
      "proline\n",
      "0.878717538283 0.105476138133\n",
      "0.878557632385 0.10558390048\n",
      "fumarate\n",
      "0.892625797017 0.0510486792266\n",
      "0.72104540429 0.354332197565\n"
     ]
    }
   ],
   "source": [
    "for met in supplemented_361.keys():\n",
    "    print(met)\n",
    "    print(pd.DataFrame.from_dict(supplemented_361[met],orient='index').mean()[0],\\\n",
    "          pd.DataFrame.from_dict(supplemented_361[met],orient='index').std()[0])\n",
    "          \n",
    "    print(pd.DataFrame.from_dict(not_supplemented_361[met],orient='index').mean()[0],\\\n",
    "         pd.DataFrame.from_dict(not_supplemented_361[met],orient='index').std()[0])"
   ]
  },
  {
   "cell_type": "code",
   "execution_count": 98,
   "metadata": {
    "collapsed": false
   },
   "outputs": [
    {
     "name": "stdout",
     "output_type": "stream",
     "text": [
      "lactate\n",
      "4.38092807494 0.67782431765\n",
      "4.38092807494 0.67782431765\n",
      "amp\n",
      "4.38092807494 0.67782431765\n",
      "4.38092807494 0.67782431765\n",
      "hypoxanthine\n",
      "4.41912566755 0.753113350152\n",
      "4.15639997693 0.34367096472\n",
      "inosine\n",
      "4.41912566755 0.753113350152\n",
      "4.15639997693 0.34367096472\n",
      "ump\n",
      "4.38092807494 0.67782431765\n",
      "4.38092807494 0.67782431765\n"
     ]
    }
   ],
   "source": [
    "for met in supplemented_519.keys():\n",
    "    print(met)\n",
    "    print(pd.DataFrame.from_dict(supplemented_519[met],orient='index').mean()[0],\\\n",
    "          pd.DataFrame.from_dict(supplemented_519[met],orient='index').std()[0])\n",
    "          \n",
    "    print(pd.DataFrame.from_dict(not_supplemented_519[met],orient='index').mean()[0],\\\n",
    "         pd.DataFrame.from_dict(not_supplemented_519[met],orient='index').std()[0])"
   ]
  },
  {
   "cell_type": "code",
   "execution_count": 99,
   "metadata": {
    "collapsed": false
   },
   "outputs": [
    {
     "data": {
      "text/plain": [
       "array([[<matplotlib.axes._subplots.AxesSubplot object at 0x7f3558805550>]], dtype=object)"
      ]
     },
     "execution_count": 99,
     "metadata": {},
     "output_type": "execute_result"
    },
    {
     "data": {
      "image/png": "[encoded data removed]",
      "text/plain": [
       "<matplotlib.figure.Figure at 0x7f3558805208>"
      ]
     },
     "metadata": {},
     "output_type": "display_data"
    }
   ],
   "source": [
    "pd.DataFrame.from_dict(not_supplemented_361['fumarate'],orient='index').hist()"
   ]
  },
  {
   "cell_type": "code",
   "execution_count": 54,
   "metadata": {
    "collapsed": false
   },
   "outputs": [
    {
     "data": {
      "text/plain": [
       "0    0.878718\n",
       "dtype: float64"
      ]
     },
     "execution_count": 54,
     "metadata": {},
     "output_type": "execute_result"
    }
   ],
   "source": [
    "pd.DataFrame.from_dict(w_valine_reformat,orient='index').mean()"
   ]
  },
  {
   "cell_type": "code",
   "execution_count": null,
   "metadata": {
    "collapsed": true
   },
   "outputs": [],
   "source": [
    "# Perform FVA on the exchange reactions to get"
   ]
  },
  {
   "cell_type": "code",
   "execution_count": 93,
   "metadata": {
    "collapsed": false
   },
   "outputs": [
    {
     "ename": "KeyError",
     "evalue": "'cpd00374_c'",
     "output_type": "error",
     "traceback": [
      "\u001b[0;31m---------------------------------------------------------------------------\u001b[0m",
      "\u001b[0;31mKeyError\u001b[0m                                  Traceback (most recent call last)",
      "\u001b[0;32m<ipython-input-93-842f7921f88a>\u001b[0m in \u001b[0;36m<module>\u001b[0;34m()\u001b[0m\n\u001b[0;32m----> 1\u001b[0;31m \u001b[0mensemble_dict\u001b[0m\u001b[0;34m[\u001b[0m\u001b[0;34m'ASF356'\u001b[0m\u001b[0;34m]\u001b[0m\u001b[0;34m.\u001b[0m\u001b[0mbase_model\u001b[0m\u001b[0;34m.\u001b[0m\u001b[0mmetabolites\u001b[0m\u001b[0;34m.\u001b[0m\u001b[0mget_by_id\u001b[0m\u001b[0;34m(\u001b[0m\u001b[0;34m'cpd00374_c'\u001b[0m\u001b[0;34m)\u001b[0m\u001b[0;34m\u001b[0m\u001b[0m\n\u001b[0m",
      "\u001b[0;32m~/Envs/cobra6/lib/python3.5/site-packages/cobra/core/dictlist.py\u001b[0m in \u001b[0;36mget_by_id\u001b[0;34m(self, id)\u001b[0m\n\u001b[1;32m     52\u001b[0m     \u001b[0;32mdef\u001b[0m \u001b[0mget_by_id\u001b[0m\u001b[0;34m(\u001b[0m\u001b[0mself\u001b[0m\u001b[0;34m,\u001b[0m \u001b[0mid\u001b[0m\u001b[0;34m)\u001b[0m\u001b[0;34m:\u001b[0m\u001b[0;34m\u001b[0m\u001b[0m\n\u001b[1;32m     53\u001b[0m         \u001b[0;34m\"\"\"return the element with a matching id\"\"\"\u001b[0m\u001b[0;34m\u001b[0m\u001b[0m\n\u001b[0;32m---> 54\u001b[0;31m         \u001b[0;32mreturn\u001b[0m \u001b[0mlist\u001b[0m\u001b[0;34m.\u001b[0m\u001b[0m__getitem__\u001b[0m\u001b[0;34m(\u001b[0m\u001b[0mself\u001b[0m\u001b[0;34m,\u001b[0m \u001b[0mself\u001b[0m\u001b[0;34m.\u001b[0m\u001b[0m_dict\u001b[0m\u001b[0;34m[\u001b[0m\u001b[0mid\u001b[0m\u001b[0;34m]\u001b[0m\u001b[0;34m)\u001b[0m\u001b[0;34m\u001b[0m\u001b[0m\n\u001b[0m\u001b[1;32m     55\u001b[0m \u001b[0;34m\u001b[0m\u001b[0m\n\u001b[1;32m     56\u001b[0m     \u001b[0;32mdef\u001b[0m \u001b[0mlist_attr\u001b[0m\u001b[0;34m(\u001b[0m\u001b[0mself\u001b[0m\u001b[0;34m,\u001b[0m \u001b[0mattribute\u001b[0m\u001b[0;34m)\u001b[0m\u001b[0;34m:\u001b[0m\u001b[0;34m\u001b[0m\u001b[0m\n",
      "\u001b[0;31mKeyError\u001b[0m: 'cpd00374_c'"
     ]
    }
   ],
   "source": [
    "ensemble_dict['ASF356'].base_model.metabolites.get_by_id('cpd00374_c')"
   ]
  }
 ],
 "metadata": {
  "kernelspec": {
   "display_name": "cobra6",
   "language": "python",
   "name": "cobra6"
  },
  "language_info": {
   "codemirror_mode": {
    "name": "ipython",
    "version": 3
   },
   "file_extension": ".py",
   "mimetype": "text/x-python",
   "name": "python",
   "nbconvert_exporter": "python",
   "pygments_lexer": "ipython3",
   "version": "3.5.2"
  }
 },
 "nbformat": 4,
 "nbformat_minor": 2
}
