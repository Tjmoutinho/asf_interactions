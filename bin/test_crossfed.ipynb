{
 "cells": [
  {
   "cell_type": "code",
   "execution_count": 1,
   "metadata": {
    "collapsed": false
   },
   "outputs": [],
   "source": [
    "%matplotlib inline\n",
    "import pandas as pd\n",
    "import os\n",
    "import json\n",
    "import cobra\n",
    "import medusa\n",
    "import task_utilities as task_utils\n",
    "import matplotlib.pylab as plt\n",
    "import numpy as np\n"
   ]
  },
  {
   "cell_type": "code",
   "execution_count": 2,
   "metadata": {
    "collapsed": false
   },
   "outputs": [
    {
     "name": "stdout",
     "output_type": "stream",
     "text": [
      "loaded ensemble base model from ASF519_base_model.json\n",
      "loaded reaction diff from ASF361_base_model_reaction_diffs.json\n",
      "loaded ensemble base model from ASF356_base_model.json\n",
      "loaded ensemble base model from ASF361_base_model.json\n",
      "loaded reaction diff from ASF519_base_model_reaction_diffs.json\n",
      "loaded reaction diff from ASF356_base_model_reaction_diffs.json\n"
     ]
    }
   ],
   "source": [
    "# Load data necessary to load the models\n",
    "model_dir = '../data/reconstructions/'\n",
    "model_dict = {}\n",
    "reaction_diff_dict = {}\n",
    "for fname in os.listdir(model_dir):\n",
    "    species = fname.split('_')[0]\n",
    "    if fname.find('reaction_diff') > 0:\n",
    "        with open(model_dir+fname,'r') as jsonfile:\n",
    "            reaction_diff_dict[species] = json.load(jsonfile)\n",
    "        print(\"loaded reaction diff from \" + fname)\n",
    "    elif fname.startswith('ASF'):\n",
    "        model = cobra.io.load_json_model(model_dir+fname)\n",
    "        model_dict[species] = model\n",
    "        print(\"loaded ensemble base model from \" + fname)"
   ]
  },
  {
   "cell_type": "code",
   "execution_count": 3,
   "metadata": {
    "collapsed": true
   },
   "outputs": [],
   "source": [
    "ensemble_dict = {}\n",
    "for species in model_dict.keys():\n",
    "    ensemble = medusa.Ensemble(base_id=species)\n",
    "    ensemble.base_model = model_dict[species]\n",
    "    # load only the first 100 reaction diffs to get 100 models\n",
    "    to_keep = [species+'_'+str(i) for i in range(1,101)]\n",
    "    ensemble.reaction_diffs = {single_model:reaction_diff_dict[species][single_model] for single_model in to_keep}\n",
    "    ensemble_dict[species] = ensemble"
   ]
  },
  {
   "cell_type": "code",
   "execution_count": 4,
   "metadata": {
    "collapsed": false
   },
   "outputs": [
    {
     "name": "stdout",
     "output_type": "stream",
     "text": [
      "WARNING: metabolite cpd05178_c is not in universal model. Excluded from media.\n"
     ]
    }
   ],
   "source": [
    "# laod the media condition\n",
    "# load universal model (needed to set media)\n",
    "universal = cobra.io.load_json_model('../data/reconstructions/seed_universal.json')\n",
    "# create a media dictionary for setting model bounds\n",
    "mLB_dict = task_utils.create_media_dict('../data/reconstructions/ammended_media.csv', universal, estimated_uptake=True)\n"
   ]
  },
  {
   "cell_type": "code",
   "execution_count": 5,
   "metadata": {
    "collapsed": false
   },
   "outputs": [],
   "source": [
    "# for each model, set the media condition, set biomass as objective, then simulate growth and save values\n",
    "mLB_growth = {}\n",
    "for species in ensemble_dict.keys():\n",
    "    task_utils.set_media(ensemble_dict[species].base_model,mLB_dict)\n",
    "    ensemble_dict[species].base_model.objective = 'bio1'\n",
    "    growth = ensemble_dict[species].optimize_ensemble(return_flux=['bio1'])\n",
    "    mLB_growth[species] = {key:growth[key]['bio1'] for key in growth.keys()}"
   ]
  },
  {
   "cell_type": "code",
   "execution_count": 6,
   "metadata": {
    "collapsed": false
   },
   "outputs": [],
   "source": [
    "# supplment media with putative cross-fed metabolites to see if it improves growth\n",
    "# For 356, supplement valine, choline, isoleucine, proline, formate, and alanine\n",
    "mets_356 = {'valine':'cpd00156','choline':'cpd00098','isoleucine':'cpd00322',\\\n",
    "            'proline':'cpd00129','formate':'cpd00047','alanine':'cpd00035','tyramine':'cpd00374'}\n",
    "# Glutamate and adenine were not consumed by 356 in monoculture, but were produced by 519 and \n",
    "# less abundant than anticipated in coculture\n",
    "# for 361, supplement Proline, Fumarate, UMP, Hypoxanthine, Lactate, and AMP\n",
    "mets_361 = {'proline':'cpd00129','fumarate':'cpd00106'}\n",
    "# For 519, supplement ump, hypoxanthine, lactate, and amp (from 361 co-culture) and ump, \n",
    "# butyrate, isobutyrate, isocaproate, amp, inosine, isovalerate, and hypoxanthine (from 356 co-culture)\n",
    "# isocaproate is not in modelSEED\n",
    "\n",
    "mets_519 = {'ump':'cpd00091','hypoxanthine':'cpd00226',\\\n",
    "            'lactate':'cpd00159','amp':'cpd00018','butyrate':'cpd00094',\\\n",
    "           'isobutyrate':'cpd01711','amp':'cpd00018','inosine':'cpd00246','isovalerate':'cpd05178'}\n",
    "not_supplemented_356 ={}\n",
    "supplemented_356 = {}\n",
    "not_supplemented_361 ={}\n",
    "supplemented_361 = {}\n",
    "not_supplemented_519 ={}\n",
    "supplemented_519 = {}\n",
    "for met in mets_356.keys():\n",
    "    # knock out the metabolite and get the growth rate\n",
    "    # check for exchange in model first\n",
    "    ex_rxns = [rxn.id for rxn in ensemble_dict['ASF356'].base_model.reactions]\n",
    "    if 'EX_'+mets_356[met]+'_e' in ex_rxns:\n",
    "        old_bound = ensemble_dict['ASF356'].base_model.reactions.get_by_id('EX_'+mets_356[met]+'_e').lower_bound\n",
    "        ensemble_dict['ASF356'].base_model.reactions.get_by_id('EX_'+mets_356[met]+'_e').lower_bound = 0\n",
    "        wout_supplement = ensemble_dict['ASF356'].optimize_ensemble(return_flux=['bio1'])\n",
    "        not_supplemented_356[met] = {key:wout_supplement[key]['bio1'] for key in wout_supplement.keys()}\n",
    "\n",
    "        # supplement the compound and see to what extent growth increases\n",
    "        ensemble_dict['ASF356'].base_model.reactions.get_by_id('EX_'+mets_356[met]+'_e').lower_bound = -100\n",
    "        w_supplement = ensemble_dict['ASF356'].optimize_ensemble(return_flux=['bio1'])\n",
    "        supplemented_356[met] = {key:w_supplement[key]['bio1'] for key in w_supplement.keys()}\n",
    "\n",
    "        # reset the bounds to the original bounds\n",
    "        ensemble_dict['ASF356'].base_model.reactions.get_by_id('EX_'+mets_356[met]+'_e').lower_bound = old_bound\n",
    "    \n",
    "for met in mets_361.keys():\n",
    "    # knock out the metabolite and get the growth rate\n",
    "    ex_rxns = [rxn.id for rxn in ensemble_dict['ASF361'].base_model.reactions]\n",
    "    if 'EX_'+mets_361[met]+'_e' in ex_rxns:\n",
    "        old_bound = ensemble_dict['ASF361'].base_model.reactions.get_by_id('EX_'+mets_361[met]+'_e').lower_bound\n",
    "        ensemble_dict['ASF361'].base_model.reactions.get_by_id('EX_'+mets_361[met]+'_e').lower_bound = 0\n",
    "        wout_supplement = ensemble_dict['ASF361'].optimize_ensemble(return_flux=['bio1'])\n",
    "        not_supplemented_361[met] = {key:wout_supplement[key]['bio1'] for key in wout_supplement.keys()}\n",
    "\n",
    "        # supplement the compound and see to what extent growth increases\n",
    "        ensemble_dict['ASF361'].base_model.reactions.get_by_id('EX_'+mets_361[met]+'_e').lower_bound = -100\n",
    "        w_supplement = ensemble_dict['ASF361'].optimize_ensemble(return_flux=['bio1'])\n",
    "        supplemented_361[met] = {key:w_supplement[key]['bio1'] for key in w_supplement.keys()}\n",
    "\n",
    "        # reset the bounds to the original bounds\n",
    "        ensemble_dict['ASF361'].base_model.reactions.get_by_id('EX_'+mets_361[met]+'_e').lower_bound = old_bound\n",
    "    \n",
    "for met in mets_519.keys():\n",
    "    # knock out the metabolite and get the growth rate\n",
    "    ex_rxns = [rxn.id for rxn in ensemble_dict['ASF519'].base_model.reactions]\n",
    "    if 'EX_'+mets_519[met]+'_e' in ex_rxns:\n",
    "        old_bound = ensemble_dict['ASF519'].base_model.reactions.get_by_id('EX_'+mets_519[met]+'_e').lower_bound\n",
    "        ensemble_dict['ASF519'].base_model.reactions.get_by_id('EX_'+mets_519[met]+'_e').lower_bound = 0\n",
    "        wout_supplement = ensemble_dict['ASF519'].optimize_ensemble(return_flux=['bio1'])\n",
    "        not_supplemented_519[met] = {key:wout_supplement[key]['bio1'] for key in wout_supplement.keys()}\n",
    "\n",
    "        # supplement the compound and see to what extent growth increases\n",
    "        ensemble_dict['ASF519'].base_model.reactions.get_by_id('EX_'+mets_519[met]+'_e').lower_bound = -100\n",
    "        w_supplement = ensemble_dict['ASF519'].optimize_ensemble(return_flux=['bio1'])\n",
    "        supplemented_519[met] = {key:w_supplement[key]['bio1'] for key in w_supplement.keys()}\n",
    "\n",
    "        # reset the bounds to the original bounds\n",
    "        ensemble_dict['ASF519'].base_model.reactions.get_by_id('EX_'+mets_519[met]+'_e').lower_bound = old_bound"
   ]
  },
  {
   "cell_type": "code",
   "execution_count": 7,
   "metadata": {
    "collapsed": false
   },
   "outputs": [
    {
     "name": "stdout",
     "output_type": "stream",
     "text": [
      "proline\n",
      "0.169079952205 0.00884640034279\n",
      "0.169079707248 0.00884473873964\n",
      "isoleucine\n",
      "0.169079952205 0.00884640034279\n",
      "0.02503736465 0.0599382825954\n",
      "alanine\n",
      "0.169079952205 0.00884640034279\n",
      "0.168996711473 0.0088587826141\n",
      "valine\n",
      "0.169079952205 0.00884640034279\n",
      "-2.16078499208e-17 7.72504026501e-18\n",
      "formate\n",
      "0.169079952205 0.00884640034279\n",
      "0.169079952205 0.00884640034279\n",
      "choline\n",
      "0.169079952205 0.00884640034279\n",
      "0.169079952205 0.00884640034279\n"
     ]
    }
   ],
   "source": [
    "# For each metabolite, we need the mean growth rate with it removed, present in excess, and the number of \n",
    "# GENREs for which the metabolite was esssential\n",
    "table_356 = {}\n",
    "for met in supplemented_356.keys():\n",
    "    print(met)\n",
    "    table_356[met] = {}\n",
    "    table_356[met]['mean with metabolite'] = pd.DataFrame.from_dict(supplemented_356[met],orient='index').mean()[0]\n",
    "    table_356[met]['mean without metabolite'] = pd.DataFrame.from_dict(not_supplemented_356[met],orient='index').mean()[0]\n",
    "    table_356[met]['Fraction essential'] = str((pd.DataFrame.from_dict(not_supplemented_356[met],orient='index') < 0.00001).sum()[0])+'/100'\n",
    "    print(pd.DataFrame.from_dict(supplemented_356[met],orient='index').mean()[0],\\\n",
    "          pd.DataFrame.from_dict(supplemented_356[met],orient='index').std()[0])\n",
    "          \n",
    "    print(pd.DataFrame.from_dict(not_supplemented_356[met],orient='index').mean()[0],\\\n",
    "         pd.DataFrame.from_dict(not_supplemented_356[met],orient='index').std()[0])"
   ]
  },
  {
   "cell_type": "code",
   "execution_count": 8,
   "metadata": {
    "collapsed": false
   },
   "outputs": [
    {
     "data": {
      "text/html": [
       "<div>\n",
       "<style>\n",
       "    .dataframe thead tr:only-child th {\n",
       "        text-align: right;\n",
       "    }\n",
       "\n",
       "    .dataframe thead th {\n",
       "        text-align: left;\n",
       "    }\n",
       "\n",
       "    .dataframe tbody tr th {\n",
       "        vertical-align: top;\n",
       "    }\n",
       "</style>\n",
       "<table border=\"1\" class=\"dataframe\">\n",
       "  <thead>\n",
       "    <tr style=\"text-align: right;\">\n",
       "      <th></th>\n",
       "      <th>alanine</th>\n",
       "      <th>choline</th>\n",
       "      <th>formate</th>\n",
       "      <th>isoleucine</th>\n",
       "      <th>proline</th>\n",
       "      <th>valine</th>\n",
       "    </tr>\n",
       "  </thead>\n",
       "  <tbody>\n",
       "    <tr>\n",
       "      <th>Fraction essential</th>\n",
       "      <td>0/100</td>\n",
       "      <td>0/100</td>\n",
       "      <td>0/100</td>\n",
       "      <td>85/100</td>\n",
       "      <td>0/100</td>\n",
       "      <td>100/100</td>\n",
       "    </tr>\n",
       "    <tr>\n",
       "      <th>mean with metabolite</th>\n",
       "      <td>0.16908</td>\n",
       "      <td>0.16908</td>\n",
       "      <td>0.16908</td>\n",
       "      <td>0.16908</td>\n",
       "      <td>0.16908</td>\n",
       "      <td>0.16908</td>\n",
       "    </tr>\n",
       "    <tr>\n",
       "      <th>mean without metabolite</th>\n",
       "      <td>0.168997</td>\n",
       "      <td>0.16908</td>\n",
       "      <td>0.16908</td>\n",
       "      <td>0.0250374</td>\n",
       "      <td>0.16908</td>\n",
       "      <td>-2.16078e-17</td>\n",
       "    </tr>\n",
       "  </tbody>\n",
       "</table>\n",
       "</div>"
      ],
      "text/plain": [
       "                          alanine  choline  formate isoleucine  proline  \\\n",
       "Fraction essential          0/100    0/100    0/100     85/100    0/100   \n",
       "mean with metabolite      0.16908  0.16908  0.16908    0.16908  0.16908   \n",
       "mean without metabolite  0.168997  0.16908  0.16908  0.0250374  0.16908   \n",
       "\n",
       "                              valine  \n",
       "Fraction essential           100/100  \n",
       "mean with metabolite         0.16908  \n",
       "mean without metabolite -2.16078e-17  "
      ]
     },
     "execution_count": 8,
     "metadata": {},
     "output_type": "execute_result"
    }
   ],
   "source": [
    "pd.DataFrame(table_356)"
   ]
  },
  {
   "cell_type": "code",
   "execution_count": 9,
   "metadata": {
    "collapsed": false
   },
   "outputs": [
    {
     "name": "stdout",
     "output_type": "stream",
     "text": [
      "fumarate\n",
      "0.892625797017 0.0510486792266\n",
      "0.72104540429 0.354332197565\n",
      "proline\n",
      "0.878717538283 0.105476138133\n",
      "0.878557632385 0.10558390048\n"
     ]
    }
   ],
   "source": [
    "table_361 = {}\n",
    "for met in supplemented_361.keys():\n",
    "    print(met)\n",
    "    table_361[met] = {}\n",
    "    table_361[met]['mean with metabolite'] = pd.DataFrame.from_dict(supplemented_361[met],orient='index').mean()[0]\n",
    "    table_361[met]['mean without metabolite'] = pd.DataFrame.from_dict(not_supplemented_361[met],orient='index').mean()[0]\n",
    "    table_361[met]['Fraction essential'] = str((pd.DataFrame.from_dict(not_supplemented_361[met],orient='index') < 0.00001).sum()[0])+'/100'\n",
    "    print(pd.DataFrame.from_dict(supplemented_361[met],orient='index').mean()[0],\\\n",
    "          pd.DataFrame.from_dict(supplemented_361[met],orient='index').std()[0])\n",
    "          \n",
    "    print(pd.DataFrame.from_dict(not_supplemented_361[met],orient='index').mean()[0],\\\n",
    "         pd.DataFrame.from_dict(not_supplemented_361[met],orient='index').std()[0])"
   ]
  },
  {
   "cell_type": "code",
   "execution_count": 10,
   "metadata": {
    "collapsed": false
   },
   "outputs": [
    {
     "data": {
      "text/html": [
       "<div>\n",
       "<style>\n",
       "    .dataframe thead tr:only-child th {\n",
       "        text-align: right;\n",
       "    }\n",
       "\n",
       "    .dataframe thead th {\n",
       "        text-align: left;\n",
       "    }\n",
       "\n",
       "    .dataframe tbody tr th {\n",
       "        vertical-align: top;\n",
       "    }\n",
       "</style>\n",
       "<table border=\"1\" class=\"dataframe\">\n",
       "  <thead>\n",
       "    <tr style=\"text-align: right;\">\n",
       "      <th></th>\n",
       "      <th>fumarate</th>\n",
       "      <th>proline</th>\n",
       "    </tr>\n",
       "  </thead>\n",
       "  <tbody>\n",
       "    <tr>\n",
       "      <th>Fraction essential</th>\n",
       "      <td>19/100</td>\n",
       "      <td>0/100</td>\n",
       "    </tr>\n",
       "    <tr>\n",
       "      <th>mean with metabolite</th>\n",
       "      <td>0.892626</td>\n",
       "      <td>0.878718</td>\n",
       "    </tr>\n",
       "    <tr>\n",
       "      <th>mean without metabolite</th>\n",
       "      <td>0.721045</td>\n",
       "      <td>0.878558</td>\n",
       "    </tr>\n",
       "  </tbody>\n",
       "</table>\n",
       "</div>"
      ],
      "text/plain": [
       "                         fumarate   proline\n",
       "Fraction essential         19/100     0/100\n",
       "mean with metabolite     0.892626  0.878718\n",
       "mean without metabolite  0.721045  0.878558"
      ]
     },
     "execution_count": 10,
     "metadata": {},
     "output_type": "execute_result"
    }
   ],
   "source": [
    "pd.DataFrame(table_361)"
   ]
  },
  {
   "cell_type": "code",
   "execution_count": 11,
   "metadata": {
    "collapsed": false
   },
   "outputs": [
    {
     "name": "stdout",
     "output_type": "stream",
     "text": [
      "inosine\n",
      "4.41912566755 0.753113350152\n",
      "4.15639997693 0.34367096472\n",
      "amp\n",
      "4.38092807494 0.67782431765\n",
      "4.38092807494 0.67782431765\n",
      "hypoxanthine\n",
      "4.41912566755 0.753113350152\n",
      "4.15639997693 0.34367096472\n",
      "ump\n",
      "4.38092807494 0.67782431765\n",
      "4.38092807494 0.67782431765\n",
      "lactate\n",
      "4.38092807494 0.67782431765\n",
      "4.38092807494 0.67782431765\n"
     ]
    }
   ],
   "source": [
    "table_519 = {}\n",
    "for met in supplemented_519.keys():\n",
    "    print(met)\n",
    "    table_519[met] = {}\n",
    "    table_519[met]['mean with metabolite'] = pd.DataFrame.from_dict(supplemented_519[met],orient='index').mean()[0]\n",
    "    table_519[met]['mean without metabolite'] = pd.DataFrame.from_dict(not_supplemented_519[met],orient='index').mean()[0]\n",
    "    table_519[met]['Fraction essential'] = str((pd.DataFrame.from_dict(not_supplemented_519[met],orient='index') < 0.00001).sum()[0])+'/100'\n",
    "    print(pd.DataFrame.from_dict(supplemented_519[met],orient='index').mean()[0],\\\n",
    "          pd.DataFrame.from_dict(supplemented_519[met],orient='index').std()[0])\n",
    "          \n",
    "    print(pd.DataFrame.from_dict(not_supplemented_519[met],orient='index').mean()[0],\\\n",
    "         pd.DataFrame.from_dict(not_supplemented_519[met],orient='index').std()[0])"
   ]
  },
  {
   "cell_type": "code",
   "execution_count": 12,
   "metadata": {
    "collapsed": false
   },
   "outputs": [
    {
     "data": {
      "text/html": [
       "<div>\n",
       "<style>\n",
       "    .dataframe thead tr:only-child th {\n",
       "        text-align: right;\n",
       "    }\n",
       "\n",
       "    .dataframe thead th {\n",
       "        text-align: left;\n",
       "    }\n",
       "\n",
       "    .dataframe tbody tr th {\n",
       "        vertical-align: top;\n",
       "    }\n",
       "</style>\n",
       "<table border=\"1\" class=\"dataframe\">\n",
       "  <thead>\n",
       "    <tr style=\"text-align: right;\">\n",
       "      <th></th>\n",
       "      <th>amp</th>\n",
       "      <th>hypoxanthine</th>\n",
       "      <th>inosine</th>\n",
       "      <th>lactate</th>\n",
       "      <th>ump</th>\n",
       "    </tr>\n",
       "  </thead>\n",
       "  <tbody>\n",
       "    <tr>\n",
       "      <th>Fraction essential</th>\n",
       "      <td>0/100</td>\n",
       "      <td>0/100</td>\n",
       "      <td>0/100</td>\n",
       "      <td>0/100</td>\n",
       "      <td>0/100</td>\n",
       "    </tr>\n",
       "    <tr>\n",
       "      <th>mean with metabolite</th>\n",
       "      <td>4.38093</td>\n",
       "      <td>4.41913</td>\n",
       "      <td>4.41913</td>\n",
       "      <td>4.38093</td>\n",
       "      <td>4.38093</td>\n",
       "    </tr>\n",
       "    <tr>\n",
       "      <th>mean without metabolite</th>\n",
       "      <td>4.38093</td>\n",
       "      <td>4.1564</td>\n",
       "      <td>4.1564</td>\n",
       "      <td>4.38093</td>\n",
       "      <td>4.38093</td>\n",
       "    </tr>\n",
       "  </tbody>\n",
       "</table>\n",
       "</div>"
      ],
      "text/plain": [
       "                             amp hypoxanthine  inosine  lactate      ump\n",
       "Fraction essential         0/100        0/100    0/100    0/100    0/100\n",
       "mean with metabolite     4.38093      4.41913  4.41913  4.38093  4.38093\n",
       "mean without metabolite  4.38093       4.1564   4.1564  4.38093  4.38093"
      ]
     },
     "execution_count": 12,
     "metadata": {},
     "output_type": "execute_result"
    }
   ],
   "source": [
    "pd.DataFrame(table_519)"
   ]
  },
  {
   "cell_type": "code",
   "execution_count": 13,
   "metadata": {
    "collapsed": false
   },
   "outputs": [
    {
     "data": {
      "text/plain": [
       "0   -1.344565e-17\n",
       "dtype: float64"
      ]
     },
     "execution_count": 13,
     "metadata": {},
     "output_type": "execute_result"
    },
    {
     "data": {
      "image/png": "[encoded data removed]",
      "text/plain": [
       "<matplotlib.figure.Figure at 0x7f9ec2ce63c8>"
      ]
     },
     "metadata": {},
     "output_type": "display_data"
    }
   ],
   "source": [
    "pd.DataFrame.from_dict(not_supplemented_356['valine'],orient='index').hist()\n",
    "pd.DataFrame.from_dict(not_supplemented_356['valine'],orient='index').max()"
   ]
  },
  {
   "cell_type": "code",
   "execution_count": 14,
   "metadata": {
    "collapsed": false
   },
   "outputs": [
    {
     "data": {
      "image/png": "[encoded data removed]",
      "text/plain": [
       "<matplotlib.figure.Figure at 0x7f9ec29cc2b0>"
      ]
     },
     "metadata": {},
     "output_type": "display_data"
    }
   ],
   "source": [
    "# save one of the examples of a distribution with and without a metabolite\n",
    "no_sup = pd.DataFrame.from_dict(not_supplemented_356['isoleucine'],orient='index')\n",
    "sup = pd.DataFrame.from_dict(supplemented_356['isoleucine'],orient='index')\n",
    "fig,ax = plt.subplots(nrows=2,ncols=1,sharex=True)\n",
    "lower_lim = min(min(sup[0].values),min(no_sup[0].values))\n",
    "upper_lim = max(max(sup[0].values),max(no_sup[0].values))\n",
    "bins = range(-3,10)*(upper_lim/10)+0.05\n",
    "ax[0].hist(no_sup[0].values,bins=bins)\n",
    "ax[1].hist(sup[0].values,bins=bins)\n",
    "ax[1].set_xlabel('Flux through biomass')\n",
    "ax[1].set_ylabel('% of GENREs from ensemble')\n",
    "ax[0].set_title('Effect of L-isoleucine on ASF356 growth')\n",
    "#ax[0].get_shared_x_axes().join(ax[0],ax[1])\n",
    "fig.set_size_inches(3,2.5)\n",
    "plt.savefig('../results/isoleucine_GENRE_example.svg', bbox_inches='tight')\n"
   ]
  },
  {
   "cell_type": "code",
   "execution_count": null,
   "metadata": {
    "collapsed": false
   },
   "outputs": [],
   "source": []
  },
  {
   "cell_type": "code",
   "execution_count": 15,
   "metadata": {
    "collapsed": false
   },
   "outputs": [
    {
     "ename": "NameError",
     "evalue": "name 'sns' is not defined",
     "output_type": "error",
     "traceback": [
      "\u001b[0;31m---------------------------------------------------------------------------\u001b[0m",
      "\u001b[0;31mNameError\u001b[0m                                 Traceback (most recent call last)",
      "\u001b[0;32m<ipython-input-15-1707d0495a71>\u001b[0m in \u001b[0;36m<module>\u001b[0;34m()\u001b[0m\n\u001b[1;32m      1\u001b[0m \u001b[0mfig\u001b[0m\u001b[0;34m,\u001b[0m\u001b[0max\u001b[0m \u001b[0;34m=\u001b[0m \u001b[0mplt\u001b[0m\u001b[0;34m.\u001b[0m\u001b[0msubplots\u001b[0m\u001b[0;34m(\u001b[0m\u001b[0;34m)\u001b[0m\u001b[0;34m\u001b[0m\u001b[0m\n\u001b[1;32m      2\u001b[0m \u001b[0md\u001b[0m \u001b[0;34m=\u001b[0m \u001b[0;34m[\u001b[0m\u001b[0mno_sup\u001b[0m\u001b[0;34m[\u001b[0m\u001b[0;36m0\u001b[0m\u001b[0;34m]\u001b[0m\u001b[0;34m.\u001b[0m\u001b[0mvalues\u001b[0m\u001b[0;34m,\u001b[0m\u001b[0msup\u001b[0m\u001b[0;34m[\u001b[0m\u001b[0;36m0\u001b[0m\u001b[0;34m]\u001b[0m\u001b[0;34m.\u001b[0m\u001b[0mvalues\u001b[0m\u001b[0;34m]\u001b[0m\u001b[0;34m\u001b[0m\u001b[0m\n\u001b[0;32m----> 3\u001b[0;31m \u001b[0msns\u001b[0m\u001b[0;34m.\u001b[0m\u001b[0mkdeplot\u001b[0m\u001b[0;34m(\u001b[0m\u001b[0mdata\u001b[0m\u001b[0;34m=\u001b[0m\u001b[0md\u001b[0m\u001b[0;34m[\u001b[0m\u001b[0;36m0\u001b[0m\u001b[0;34m]\u001b[0m\u001b[0;34m,\u001b[0m\u001b[0mbw\u001b[0m\u001b[0;34m=\u001b[0m\u001b[0;36m0.1\u001b[0m\u001b[0;34m,\u001b[0m\u001b[0mshade\u001b[0m\u001b[0;34m=\u001b[0m\u001b[0;32mTrue\u001b[0m\u001b[0;34m,\u001b[0m\u001b[0max\u001b[0m\u001b[0;34m=\u001b[0m\u001b[0max\u001b[0m\u001b[0;34m,\u001b[0m\u001b[0mcolor\u001b[0m\u001b[0;34m=\u001b[0m\u001b[0;34m'blue'\u001b[0m\u001b[0;34m)\u001b[0m\u001b[0;34m\u001b[0m\u001b[0m\n\u001b[0m\u001b[1;32m      4\u001b[0m \u001b[0msns\u001b[0m\u001b[0;34m.\u001b[0m\u001b[0mkdeplot\u001b[0m\u001b[0;34m(\u001b[0m\u001b[0mdata\u001b[0m\u001b[0;34m=\u001b[0m\u001b[0md\u001b[0m\u001b[0;34m[\u001b[0m\u001b[0;36m1\u001b[0m\u001b[0;34m]\u001b[0m\u001b[0;34m,\u001b[0m\u001b[0mbw\u001b[0m\u001b[0;34m=\u001b[0m\u001b[0;36m0.1\u001b[0m\u001b[0;34m,\u001b[0m\u001b[0max\u001b[0m\u001b[0;34m=\u001b[0m\u001b[0max\u001b[0m\u001b[0;34m,\u001b[0m\u001b[0mshade\u001b[0m\u001b[0;34m=\u001b[0m\u001b[0;32mTrue\u001b[0m\u001b[0;34m,\u001b[0m\u001b[0mcolor\u001b[0m\u001b[0;34m=\u001b[0m\u001b[0;34m'red'\u001b[0m\u001b[0;34m)\u001b[0m\u001b[0;34m\u001b[0m\u001b[0m\n\u001b[1;32m      5\u001b[0m \u001b[0max\u001b[0m\u001b[0;34m.\u001b[0m\u001b[0mset_xlim\u001b[0m\u001b[0;34m(\u001b[0m\u001b[0;34m[\u001b[0m\u001b[0;34m-\u001b[0m\u001b[0;36m0.1\u001b[0m\u001b[0;34m,\u001b[0m\u001b[0mmax\u001b[0m\u001b[0;34m(\u001b[0m\u001b[0mmax\u001b[0m\u001b[0;34m(\u001b[0m\u001b[0md\u001b[0m\u001b[0;34m[\u001b[0m\u001b[0;36m0\u001b[0m\u001b[0;34m]\u001b[0m\u001b[0;34m)\u001b[0m\u001b[0;34m,\u001b[0m\u001b[0mmax\u001b[0m\u001b[0;34m(\u001b[0m\u001b[0md\u001b[0m\u001b[0;34m[\u001b[0m\u001b[0;36m1\u001b[0m\u001b[0;34m]\u001b[0m\u001b[0;34m)\u001b[0m\u001b[0;34m)\u001b[0m\u001b[0;34m]\u001b[0m\u001b[0;34m)\u001b[0m\u001b[0;34m\u001b[0m\u001b[0m\n",
      "\u001b[0;31mNameError\u001b[0m: name 'sns' is not defined"
     ]
    },
    {
     "data": {
      "image/png": "[encoded data removed]",
      "text/plain": [
       "<matplotlib.figure.Figure at 0x7f9ec2a06e48>"
      ]
     },
     "metadata": {},
     "output_type": "display_data"
    }
   ],
   "source": [
    "fig,ax = plt.subplots()\n",
    "d = [no_sup[0].values,sup[0].values]\n",
    "sns.kdeplot(data=d[0],bw=0.1,shade=True,ax=ax,color='blue')\n",
    "sns.kdeplot(data=d[1],bw=0.1,ax=ax,shade=True,color='red')\n",
    "ax.set_xlim([-0.1,max(max(d[0]),max(d[1]))])\n",
    "ax.set_xticklabels([])\n",
    "ax.set_xlabel('Flux through biomass')\n",
    "ax.set_ylabel('# of GENREs from ensemble')\n",
    "ax.set_title('Effect of L-isoleucine on ASF356 growth')\n",
    "fig.set_size_inches(4,2.8)\n",
    "plt.savefig('../results/isoleucine_GENRE_example.svg', bbox_inches='tight')"
   ]
  },
  {
   "cell_type": "code",
   "execution_count": null,
   "metadata": {
    "collapsed": false
   },
   "outputs": [],
   "source": [
    "pd.DataFrame.from_dict(supplemented_356['valine'],orient='index').hist()\n",
    "pd.DataFrame.from_dict(supplemented_356['valine'],orient='index').max()"
   ]
  },
  {
   "cell_type": "code",
   "execution_count": null,
   "metadata": {
    "collapsed": true
   },
   "outputs": [],
   "source": [
    "# Perform FVA on the exchange reactions to get"
   ]
  },
  {
   "cell_type": "code",
   "execution_count": null,
   "metadata": {
    "collapsed": false
   },
   "outputs": [],
   "source": [
    "ensemble_dict['ASF356'].base_model.metabolites.get_by_id('cpd00374_c')"
   ]
  }
 ],
 "metadata": {
  "kernelspec": {
   "display_name": "cobra6",
   "language": "python",
   "name": "cobra6"
  },
  "language_info": {
   "codemirror_mode": {
    "name": "ipython",
    "version": 3
   },
   "file_extension": ".py",
   "mimetype": "text/x-python",
   "name": "python",
   "nbconvert_exporter": "python",
   "pygments_lexer": "ipython3",
   "version": "3.5.2"
  }
 },
 "nbformat": 4,
 "nbformat_minor": 2
}
