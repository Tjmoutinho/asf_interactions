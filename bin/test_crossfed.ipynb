{
 "cells": [
  {
   "cell_type": "code",
   "execution_count": 84,
   "metadata": {
    "collapsed": true
   },
   "outputs": [],
   "source": [
    "%matplotlib inline\n",
    "import pandas as pd\n",
    "import os\n",
    "import json\n",
    "import cobra\n",
    "import medusa\n",
    "import task_utilities as task_utils"
   ]
  },
  {
   "cell_type": "code",
   "execution_count": 58,
   "metadata": {
    "collapsed": false
   },
   "outputs": [
    {
     "name": "stdout",
     "output_type": "stream",
     "text": [
      "loaded ensemble base model from ASF519_base_model.json\n",
      "loaded reaction diff from ASF361_base_model_reaction_diffs.json\n",
      "loaded ensemble base model from ASF356_base_model.json\n",
      "loaded ensemble base model from ASF361_base_model.json\n",
      "loaded reaction diff from ASF519_base_model_reaction_diffs.json\n",
      "loaded reaction diff from ASF356_base_model_reaction_diffs.json\n"
     ]
    }
   ],
   "source": [
    "# Load data necessary to load the models\n",
    "model_dir = '../data/reconstructions/'\n",
    "model_dict = {}\n",
    "reaction_diff_dict = {}\n",
    "for fname in os.listdir(model_dir):\n",
    "    species = fname.split('_')[0]\n",
    "    if fname.find('reaction_diff') > 0:\n",
    "        with open(model_dir+fname,'r') as jsonfile:\n",
    "            reaction_diff_dict[species] = json.load(jsonfile)\n",
    "        print(\"loaded reaction diff from \" + fname)\n",
    "    elif fname.startswith('ASF'):\n",
    "        model = cobra.io.load_json_model(model_dir+fname)\n",
    "        model_dict[species] = model\n",
    "        print(\"loaded ensemble base model from \" + fname)"
   ]
  },
  {
   "cell_type": "code",
   "execution_count": 59,
   "metadata": {
    "collapsed": true
   },
   "outputs": [],
   "source": [
    "ensemble_dict = {}\n",
    "for species in model_dict.keys():\n",
    "    ensemble = medusa.Ensemble(base_id=species)\n",
    "    ensemble.base_model = model_dict[species]\n",
    "    # load only the first 100 reaction diffs to get 100 models\n",
    "    to_keep = [species+'_'+str(i) for i in range(1,101)]\n",
    "    ensemble.reaction_diffs = {single_model:reaction_diff_dict[species][single_model] for single_model in to_keep}\n",
    "    ensemble_dict[species] = ensemble"
   ]
  },
  {
   "cell_type": "code",
   "execution_count": 60,
   "metadata": {
    "collapsed": false
   },
   "outputs": [
    {
     "name": "stdout",
     "output_type": "stream",
     "text": [
      "WARNING: metabolite cpd05178_c is not in universal model. Excluded from media.\n"
     ]
    }
   ],
   "source": [
    "# laod the media condition\n",
    "# load universal model (needed to set media)\n",
    "universal = cobra.io.load_json_model('../data/reconstructions/seed_universal.json')\n",
    "# create a media dictionary for setting model bounds\n",
    "mLB_dict = task_utils.create_media_dict('../data/reconstructions/ammended_media.csv', universal, estimated_uptake=True)\n"
   ]
  },
  {
   "cell_type": "code",
   "execution_count": 100,
   "metadata": {
    "collapsed": false
   },
   "outputs": [],
   "source": [
    "# for each model, set the media condition, set biomass as objective, then simulate growth and save values\n",
    "mLB_growth = {}\n",
    "for species in ensemble_dict.keys():\n",
    "    task_utils.set_media(ensemble_dict[species].base_model,mLB_dict)\n",
    "    ensemble_dict[species].base_model.objective = 'bio1'\n",
    "    growth = ensemble_dict[species].optimize_ensemble(return_flux=['bio1'])\n",
    "    mLB_growth[species] = {key:growth[key]['bio1'] for key in growth.keys()}"
   ]
  },
  {
   "cell_type": "code",
   "execution_count": 101,
   "metadata": {
    "collapsed": false
   },
   "outputs": [],
   "source": [
    "# supplment media with putative cross-fed metabolites to see if it improves growth\n",
    "# For 356, supplement valine, choline, isoleucine, proline, formate, and alanine\n",
    "mets_356 = {'valine':'cpd00156','choline':'cpd00098','isoleucine':'cpd00322',\\\n",
    "            'proline':'cpd00129','formate':'cpd00047','alanine':'cpd00035','tyramine':'cpd00374'}\n",
    "# Glutamate and adenine were not consumed by 356 in monoculture, but were produced by 519 and \n",
    "# less abundant than anticipated in coculture\n",
    "# for 361, supplement Proline, Fumarate, UMP, Hypoxanthine, Lactate, and AMP\n",
    "mets_361 = {'proline':'cpd00129','fumarate':'cpd00106'}\n",
    "# For 519, supplement ump, hypoxanthine, lactate, and amp (from 361 co-culture) and ump, \n",
    "# butyrate, isobutyrate, isocaproate, amp, inosine, isovalerate, and hypoxanthine (from 356 co-culture)\n",
    "# isocaproate is not in modelSEED\n",
    "\n",
    "mets_519 = {'ump':'cpd00091','hypoxanthine':'cpd00226',\\\n",
    "            'lactate':'cpd00159','amp':'cpd00018','butyrate':'cpd00094',\\\n",
    "           'isobutyrate':'cpd01711','amp':'cpd00018','inosine':'cpd00246','isovalerate':'cpd05178'}\n",
    "not_supplemented_356 ={}\n",
    "supplemented_356 = {}\n",
    "not_supplemented_361 ={}\n",
    "supplemented_361 = {}\n",
    "not_supplemented_519 ={}\n",
    "supplemented_519 = {}\n",
    "for met in mets_356.keys():\n",
    "    # knock out the metabolite and get the growth rate\n",
    "    # check for exchange in model first\n",
    "    ex_rxns = [rxn.id for rxn in ensemble_dict['ASF356'].base_model.reactions]\n",
    "    if 'EX_'+mets_356[met]+'_e' in ex_rxns:\n",
    "        old_bound = ensemble_dict['ASF356'].base_model.reactions.get_by_id('EX_'+mets_356[met]+'_e').lower_bound\n",
    "        ensemble_dict['ASF356'].base_model.reactions.get_by_id('EX_'+mets_356[met]+'_e').lower_bound = 0\n",
    "        wout_supplement = ensemble_dict['ASF356'].optimize_ensemble(return_flux=['bio1'])\n",
    "        not_supplemented_356[met] = {key:wout_supplement[key]['bio1'] for key in wout_supplement.keys()}\n",
    "\n",
    "        # supplement the compound and see to what extent growth increases\n",
    "        ensemble_dict['ASF356'].base_model.reactions.get_by_id('EX_'+mets_356[met]+'_e').lower_bound = -100\n",
    "        w_supplement = ensemble_dict['ASF356'].optimize_ensemble(return_flux=['bio1'])\n",
    "        supplemented_356[met] = {key:w_supplement[key]['bio1'] for key in w_supplement.keys()}\n",
    "\n",
    "        # reset the bounds to the original bounds\n",
    "        ensemble_dict['ASF356'].base_model.reactions.get_by_id('EX_'+mets_356[met]+'_e').lower_bound = old_bound\n",
    "    \n",
    "for met in mets_361.keys():\n",
    "    # knock out the metabolite and get the growth rate\n",
    "    ex_rxns = [rxn.id for rxn in ensemble_dict['ASF361'].base_model.reactions]\n",
    "    if 'EX_'+mets_361[met]+'_e' in ex_rxns:\n",
    "        old_bound = ensemble_dict['ASF361'].base_model.reactions.get_by_id('EX_'+mets_361[met]+'_e').lower_bound\n",
    "        ensemble_dict['ASF361'].base_model.reactions.get_by_id('EX_'+mets_361[met]+'_e').lower_bound = 0\n",
    "        wout_supplement = ensemble_dict['ASF361'].optimize_ensemble(return_flux=['bio1'])\n",
    "        not_supplemented_361[met] = {key:wout_supplement[key]['bio1'] for key in wout_supplement.keys()}\n",
    "\n",
    "        # supplement the compound and see to what extent growth increases\n",
    "        ensemble_dict['ASF361'].base_model.reactions.get_by_id('EX_'+mets_361[met]+'_e').lower_bound = -100\n",
    "        w_supplement = ensemble_dict['ASF361'].optimize_ensemble(return_flux=['bio1'])\n",
    "        supplemented_361[met] = {key:w_supplement[key]['bio1'] for key in w_supplement.keys()}\n",
    "\n",
    "        # reset the bounds to the original bounds\n",
    "        ensemble_dict['ASF361'].base_model.reactions.get_by_id('EX_'+mets_361[met]+'_e').lower_bound = old_bound\n",
    "    \n",
    "for met in mets_519.keys():\n",
    "    # knock out the metabolite and get the growth rate\n",
    "    ex_rxns = [rxn.id for rxn in ensemble_dict['ASF519'].base_model.reactions]\n",
    "    if 'EX_'+mets_519[met]+'_e' in ex_rxns:\n",
    "        old_bound = ensemble_dict['ASF519'].base_model.reactions.get_by_id('EX_'+mets_519[met]+'_e').lower_bound\n",
    "        ensemble_dict['ASF519'].base_model.reactions.get_by_id('EX_'+mets_519[met]+'_e').lower_bound = 0\n",
    "        wout_supplement = ensemble_dict['ASF519'].optimize_ensemble(return_flux=['bio1'])\n",
    "        not_supplemented_519[met] = {key:wout_supplement[key]['bio1'] for key in wout_supplement.keys()}\n",
    "\n",
    "        # supplement the compound and see to what extent growth increases\n",
    "        ensemble_dict['ASF519'].base_model.reactions.get_by_id('EX_'+mets_519[met]+'_e').lower_bound = -100\n",
    "        w_supplement = ensemble_dict['ASF519'].optimize_ensemble(return_flux=['bio1'])\n",
    "        supplemented_519[met] = {key:w_supplement[key]['bio1'] for key in w_supplement.keys()}\n",
    "\n",
    "        # reset the bounds to the original bounds\n",
    "        ensemble_dict['ASF519'].base_model.reactions.get_by_id('EX_'+mets_519[met]+'_e').lower_bound = old_bound"
   ]
  },
  {
   "cell_type": "code",
   "execution_count": 124,
   "metadata": {
    "collapsed": false
   },
   "outputs": [
    {
     "name": "stdout",
     "output_type": "stream",
     "text": [
      "valine\n",
      "0.169079952205 0.00884640034279\n",
      "3.40330436777e-17 0.0\n",
      "proline\n",
      "0.169079952205 0.00884640034279\n",
      "0.169079707248 0.00884473873964\n",
      "isoleucine\n",
      "0.169079952205 0.00884640034279\n",
      "0.02503736465 0.0599382825954\n",
      "formate\n",
      "0.169079952205 0.00884640034279\n",
      "0.169079952205 0.00884640034279\n",
      "alanine\n",
      "0.169079952205 0.00884640034279\n",
      "0.168996711473 0.0088587826141\n",
      "choline\n",
      "0.169079952205 0.00884640034279\n",
      "0.169079952205 0.00884640034279\n"
     ]
    }
   ],
   "source": [
    "# For each metabolite, we need the mean growth rate with it removed, present in excess, and the number of \n",
    "# GENREs for which the metabolite was esssential\n",
    "table_356 = {}\n",
    "for met in supplemented_356.keys():\n",
    "    print(met)\n",
    "    table_356[met] = {}\n",
    "    table_356[met]['mean with metabolite'] = pd.DataFrame.from_dict(supplemented_356[met],orient='index').mean()[0]\n",
    "    table_356[met]['mean without metabolite'] = pd.DataFrame.from_dict(not_supplemented_356[met],orient='index').mean()[0]\n",
    "    table_356[met]['Fraction essential'] = str((pd.DataFrame.from_dict(not_supplemented_356[met],orient='index') < 0.00001).sum()[0])+'/100'\n",
    "    print(pd.DataFrame.from_dict(supplemented_356[met],orient='index').mean()[0],\\\n",
    "          pd.DataFrame.from_dict(supplemented_356[met],orient='index').std()[0])\n",
    "          \n",
    "    print(pd.DataFrame.from_dict(not_supplemented_356[met],orient='index').mean()[0],\\\n",
    "         pd.DataFrame.from_dict(not_supplemented_356[met],orient='index').std()[0])"
   ]
  },
  {
   "cell_type": "code",
   "execution_count": 125,
   "metadata": {
    "collapsed": false
   },
   "outputs": [
    {
     "data": {
      "text/html": [
       "<div>\n",
       "<style>\n",
       "    .dataframe thead tr:only-child th {\n",
       "        text-align: right;\n",
       "    }\n",
       "\n",
       "    .dataframe thead th {\n",
       "        text-align: left;\n",
       "    }\n",
       "\n",
       "    .dataframe tbody tr th {\n",
       "        vertical-align: top;\n",
       "    }\n",
       "</style>\n",
       "<table border=\"1\" class=\"dataframe\">\n",
       "  <thead>\n",
       "    <tr style=\"text-align: right;\">\n",
       "      <th></th>\n",
       "      <th>alanine</th>\n",
       "      <th>choline</th>\n",
       "      <th>formate</th>\n",
       "      <th>isoleucine</th>\n",
       "      <th>proline</th>\n",
       "      <th>valine</th>\n",
       "    </tr>\n",
       "  </thead>\n",
       "  <tbody>\n",
       "    <tr>\n",
       "      <th>Fraction essential</th>\n",
       "      <td>0/100</td>\n",
       "      <td>0/100</td>\n",
       "      <td>0/100</td>\n",
       "      <td>85/100</td>\n",
       "      <td>0/100</td>\n",
       "      <td>100/100</td>\n",
       "    </tr>\n",
       "    <tr>\n",
       "      <th>mean with metabolite</th>\n",
       "      <td>0.16908</td>\n",
       "      <td>0.16908</td>\n",
       "      <td>0.16908</td>\n",
       "      <td>0.16908</td>\n",
       "      <td>0.16908</td>\n",
       "      <td>0.16908</td>\n",
       "    </tr>\n",
       "    <tr>\n",
       "      <th>mean without metabolite</th>\n",
       "      <td>0.168997</td>\n",
       "      <td>0.16908</td>\n",
       "      <td>0.16908</td>\n",
       "      <td>0.0250374</td>\n",
       "      <td>0.16908</td>\n",
       "      <td>3.4033e-17</td>\n",
       "    </tr>\n",
       "  </tbody>\n",
       "</table>\n",
       "</div>"
      ],
      "text/plain": [
       "                          alanine  choline  formate isoleucine  proline  \\\n",
       "Fraction essential          0/100    0/100    0/100     85/100    0/100   \n",
       "mean with metabolite      0.16908  0.16908  0.16908    0.16908  0.16908   \n",
       "mean without metabolite  0.168997  0.16908  0.16908  0.0250374  0.16908   \n",
       "\n",
       "                             valine  \n",
       "Fraction essential          100/100  \n",
       "mean with metabolite        0.16908  \n",
       "mean without metabolite  3.4033e-17  "
      ]
     },
     "execution_count": 125,
     "metadata": {},
     "output_type": "execute_result"
    }
   ],
   "source": [
    "pd.DataFrame(table_356)"
   ]
  },
  {
   "cell_type": "code",
   "execution_count": 126,
   "metadata": {
    "collapsed": false
   },
   "outputs": [
    {
     "name": "stdout",
     "output_type": "stream",
     "text": [
      "proline\n",
      "0.878717538283 0.105476138133\n",
      "0.878557632385 0.10558390048\n",
      "fumarate\n",
      "0.892625797017 0.0510486792266\n",
      "0.72104540429 0.354332197565\n"
     ]
    }
   ],
   "source": [
    "table_361 = {}\n",
    "for met in supplemented_361.keys():\n",
    "    print(met)\n",
    "    table_361[met] = {}\n",
    "    table_361[met]['mean with metabolite'] = pd.DataFrame.from_dict(supplemented_361[met],orient='index').mean()[0]\n",
    "    table_361[met]['mean without metabolite'] = pd.DataFrame.from_dict(not_supplemented_361[met],orient='index').mean()[0]\n",
    "    table_361[met]['Fraction essential'] = str((pd.DataFrame.from_dict(not_supplemented_361[met],orient='index') < 0.00001).sum()[0])+'/100'\n",
    "    print(pd.DataFrame.from_dict(supplemented_361[met],orient='index').mean()[0],\\\n",
    "          pd.DataFrame.from_dict(supplemented_361[met],orient='index').std()[0])\n",
    "          \n",
    "    print(pd.DataFrame.from_dict(not_supplemented_361[met],orient='index').mean()[0],\\\n",
    "         pd.DataFrame.from_dict(not_supplemented_361[met],orient='index').std()[0])"
   ]
  },
  {
   "cell_type": "code",
   "execution_count": 127,
   "metadata": {
    "collapsed": false
   },
   "outputs": [
    {
     "data": {
      "text/html": [
       "<div>\n",
       "<style>\n",
       "    .dataframe thead tr:only-child th {\n",
       "        text-align: right;\n",
       "    }\n",
       "\n",
       "    .dataframe thead th {\n",
       "        text-align: left;\n",
       "    }\n",
       "\n",
       "    .dataframe tbody tr th {\n",
       "        vertical-align: top;\n",
       "    }\n",
       "</style>\n",
       "<table border=\"1\" class=\"dataframe\">\n",
       "  <thead>\n",
       "    <tr style=\"text-align: right;\">\n",
       "      <th></th>\n",
       "      <th>fumarate</th>\n",
       "      <th>proline</th>\n",
       "    </tr>\n",
       "  </thead>\n",
       "  <tbody>\n",
       "    <tr>\n",
       "      <th>Fraction essential</th>\n",
       "      <td>19/100</td>\n",
       "      <td>0/100</td>\n",
       "    </tr>\n",
       "    <tr>\n",
       "      <th>mean with metabolite</th>\n",
       "      <td>0.892626</td>\n",
       "      <td>0.878718</td>\n",
       "    </tr>\n",
       "    <tr>\n",
       "      <th>mean without metabolite</th>\n",
       "      <td>0.721045</td>\n",
       "      <td>0.878558</td>\n",
       "    </tr>\n",
       "  </tbody>\n",
       "</table>\n",
       "</div>"
      ],
      "text/plain": [
       "                         fumarate   proline\n",
       "Fraction essential         19/100     0/100\n",
       "mean with metabolite     0.892626  0.878718\n",
       "mean without metabolite  0.721045  0.878558"
      ]
     },
     "execution_count": 127,
     "metadata": {},
     "output_type": "execute_result"
    }
   ],
   "source": [
    "pd.DataFrame(table_361)"
   ]
  },
  {
   "cell_type": "code",
   "execution_count": 128,
   "metadata": {
    "collapsed": false
   },
   "outputs": [
    {
     "name": "stdout",
     "output_type": "stream",
     "text": [
      "lactate\n",
      "4.38092807494 0.67782431765\n",
      "4.38092807494 0.67782431765\n",
      "amp\n",
      "4.38092807494 0.67782431765\n",
      "4.38092807494 0.67782431765\n",
      "hypoxanthine\n",
      "4.41912566755 0.753113350152\n",
      "4.15639997693 0.34367096472\n",
      "inosine\n",
      "4.41912566755 0.753113350152\n",
      "4.15639997693 0.34367096472\n",
      "ump\n",
      "4.38092807494 0.67782431765\n",
      "4.38092807494 0.67782431765\n"
     ]
    }
   ],
   "source": [
    "table_519 = {}\n",
    "for met in supplemented_519.keys():\n",
    "    print(met)\n",
    "    table_519[met] = {}\n",
    "    table_519[met]['mean with metabolite'] = pd.DataFrame.from_dict(supplemented_519[met],orient='index').mean()[0]\n",
    "    table_519[met]['mean without metabolite'] = pd.DataFrame.from_dict(not_supplemented_519[met],orient='index').mean()[0]\n",
    "    table_519[met]['Fraction essential'] = str((pd.DataFrame.from_dict(not_supplemented_519[met],orient='index') < 0.00001).sum()[0])+'/100'\n",
    "    print(pd.DataFrame.from_dict(supplemented_519[met],orient='index').mean()[0],\\\n",
    "          pd.DataFrame.from_dict(supplemented_519[met],orient='index').std()[0])\n",
    "          \n",
    "    print(pd.DataFrame.from_dict(not_supplemented_519[met],orient='index').mean()[0],\\\n",
    "         pd.DataFrame.from_dict(not_supplemented_519[met],orient='index').std()[0])"
   ]
  },
  {
   "cell_type": "code",
   "execution_count": 129,
   "metadata": {
    "collapsed": false
   },
   "outputs": [
    {
     "data": {
      "text/html": [
       "<div>\n",
       "<style>\n",
       "    .dataframe thead tr:only-child th {\n",
       "        text-align: right;\n",
       "    }\n",
       "\n",
       "    .dataframe thead th {\n",
       "        text-align: left;\n",
       "    }\n",
       "\n",
       "    .dataframe tbody tr th {\n",
       "        vertical-align: top;\n",
       "    }\n",
       "</style>\n",
       "<table border=\"1\" class=\"dataframe\">\n",
       "  <thead>\n",
       "    <tr style=\"text-align: right;\">\n",
       "      <th></th>\n",
       "      <th>amp</th>\n",
       "      <th>hypoxanthine</th>\n",
       "      <th>inosine</th>\n",
       "      <th>lactate</th>\n",
       "      <th>ump</th>\n",
       "    </tr>\n",
       "  </thead>\n",
       "  <tbody>\n",
       "    <tr>\n",
       "      <th>Fraction essential</th>\n",
       "      <td>0/100</td>\n",
       "      <td>0/100</td>\n",
       "      <td>0/100</td>\n",
       "      <td>0/100</td>\n",
       "      <td>0/100</td>\n",
       "    </tr>\n",
       "    <tr>\n",
       "      <th>mean with metabolite</th>\n",
       "      <td>4.38093</td>\n",
       "      <td>4.41913</td>\n",
       "      <td>4.41913</td>\n",
       "      <td>4.38093</td>\n",
       "      <td>4.38093</td>\n",
       "    </tr>\n",
       "    <tr>\n",
       "      <th>mean without metabolite</th>\n",
       "      <td>4.38093</td>\n",
       "      <td>4.1564</td>\n",
       "      <td>4.1564</td>\n",
       "      <td>4.38093</td>\n",
       "      <td>4.38093</td>\n",
       "    </tr>\n",
       "  </tbody>\n",
       "</table>\n",
       "</div>"
      ],
      "text/plain": [
       "                             amp hypoxanthine  inosine  lactate      ump\n",
       "Fraction essential         0/100        0/100    0/100    0/100    0/100\n",
       "mean with metabolite     4.38093      4.41913  4.41913  4.38093  4.38093\n",
       "mean without metabolite  4.38093       4.1564   4.1564  4.38093  4.38093"
      ]
     },
     "execution_count": 129,
     "metadata": {},
     "output_type": "execute_result"
    }
   ],
   "source": [
    "pd.DataFrame(table_519)"
   ]
  },
  {
   "cell_type": "code",
   "execution_count": 106,
   "metadata": {
    "collapsed": false
   },
   "outputs": [
    {
     "data": {
      "text/plain": [
       "0    3.403304e-17\n",
       "dtype: float64"
      ]
     },
     "execution_count": 106,
     "metadata": {},
     "output_type": "execute_result"
    },
    {
     "data": {
      "image/png": "[encoded data removed]",
      "text/plain": [
       "<matplotlib.figure.Figure at 0x7f3566902b70>"
      ]
     },
     "metadata": {},
     "output_type": "display_data"
    }
   ],
   "source": [
    "pd.DataFrame.from_dict(not_supplemented_356['valine'],orient='index').hist()\n",
    "pd.DataFrame.from_dict(not_supplemented_356['valine'],orient='index').max()"
   ]
  },
  {
   "cell_type": "code",
   "execution_count": 112,
   "metadata": {
    "collapsed": false
   },
   "outputs": [
    {
     "data": {
      "text/plain": [
       "0    15\n",
       "dtype: int64"
      ]
     },
     "execution_count": 112,
     "metadata": {},
     "output_type": "execute_result"
    },
    {
     "data": {
      "image/png": "[encoded data removed]",
      "text/plain": [
       "<matplotlib.figure.Figure at 0x7f355791f198>"
      ]
     },
     "metadata": {},
     "output_type": "display_data"
    }
   ],
   "source": [
    "pd.DataFrame.from_dict(not_supplemented_356['isoleucine'],orient='index').hist()\n",
    "pd.DataFrame.from_dict(not_supplemented_356['isoleucine'],orient='index').max()\n",
    "(pd.DataFrame.from_dict(not_supplemented_356['isoleucine'],orient='index') > 0.00001).sum()"
   ]
  },
  {
   "cell_type": "code",
   "execution_count": 107,
   "metadata": {
    "collapsed": false
   },
   "outputs": [
    {
     "data": {
      "text/plain": [
       "0    0.228501\n",
       "dtype: float64"
      ]
     },
     "execution_count": 107,
     "metadata": {},
     "output_type": "execute_result"
    },
    {
     "data": {
      "image/png": "[encoded data removed]",
      "text/plain": [
       "<matplotlib.figure.Figure at 0x7f35646fb0f0>"
      ]
     },
     "metadata": {},
     "output_type": "display_data"
    }
   ],
   "source": [
    "pd.DataFrame.from_dict(supplemented_356['valine'],orient='index').hist()\n",
    "pd.DataFrame.from_dict(supplemented_356['valine'],orient='index').max()"
   ]
  },
  {
   "cell_type": "code",
   "execution_count": null,
   "metadata": {
    "collapsed": true
   },
   "outputs": [],
   "source": [
    "# Perform FVA on the exchange reactions to get"
   ]
  },
  {
   "cell_type": "code",
   "execution_count": 93,
   "metadata": {
    "collapsed": false
   },
   "outputs": [
    {
     "ename": "KeyError",
     "evalue": "'cpd00374_c'",
     "output_type": "error",
     "traceback": [
      "\u001b[0;31m---------------------------------------------------------------------------\u001b[0m",
      "\u001b[0;31mKeyError\u001b[0m                                  Traceback (most recent call last)",
      "\u001b[0;32m<ipython-input-93-842f7921f88a>\u001b[0m in \u001b[0;36m<module>\u001b[0;34m()\u001b[0m\n\u001b[0;32m----> 1\u001b[0;31m \u001b[0mensemble_dict\u001b[0m\u001b[0;34m[\u001b[0m\u001b[0;34m'ASF356'\u001b[0m\u001b[0;34m]\u001b[0m\u001b[0;34m.\u001b[0m\u001b[0mbase_model\u001b[0m\u001b[0;34m.\u001b[0m\u001b[0mmetabolites\u001b[0m\u001b[0;34m.\u001b[0m\u001b[0mget_by_id\u001b[0m\u001b[0;34m(\u001b[0m\u001b[0;34m'cpd00374_c'\u001b[0m\u001b[0;34m)\u001b[0m\u001b[0;34m\u001b[0m\u001b[0m\n\u001b[0m",
      "\u001b[0;32m~/Envs/cobra6/lib/python3.5/site-packages/cobra/core/dictlist.py\u001b[0m in \u001b[0;36mget_by_id\u001b[0;34m(self, id)\u001b[0m\n\u001b[1;32m     52\u001b[0m     \u001b[0;32mdef\u001b[0m \u001b[0mget_by_id\u001b[0m\u001b[0;34m(\u001b[0m\u001b[0mself\u001b[0m\u001b[0;34m,\u001b[0m \u001b[0mid\u001b[0m\u001b[0;34m)\u001b[0m\u001b[0;34m:\u001b[0m\u001b[0;34m\u001b[0m\u001b[0m\n\u001b[1;32m     53\u001b[0m         \u001b[0;34m\"\"\"return the element with a matching id\"\"\"\u001b[0m\u001b[0;34m\u001b[0m\u001b[0m\n\u001b[0;32m---> 54\u001b[0;31m         \u001b[0;32mreturn\u001b[0m \u001b[0mlist\u001b[0m\u001b[0;34m.\u001b[0m\u001b[0m__getitem__\u001b[0m\u001b[0;34m(\u001b[0m\u001b[0mself\u001b[0m\u001b[0;34m,\u001b[0m \u001b[0mself\u001b[0m\u001b[0;34m.\u001b[0m\u001b[0m_dict\u001b[0m\u001b[0;34m[\u001b[0m\u001b[0mid\u001b[0m\u001b[0;34m]\u001b[0m\u001b[0;34m)\u001b[0m\u001b[0;34m\u001b[0m\u001b[0m\n\u001b[0m\u001b[1;32m     55\u001b[0m \u001b[0;34m\u001b[0m\u001b[0m\n\u001b[1;32m     56\u001b[0m     \u001b[0;32mdef\u001b[0m \u001b[0mlist_attr\u001b[0m\u001b[0;34m(\u001b[0m\u001b[0mself\u001b[0m\u001b[0;34m,\u001b[0m \u001b[0mattribute\u001b[0m\u001b[0;34m)\u001b[0m\u001b[0;34m:\u001b[0m\u001b[0;34m\u001b[0m\u001b[0m\n",
      "\u001b[0;31mKeyError\u001b[0m: 'cpd00374_c'"
     ]
    }
   ],
   "source": [
    "ensemble_dict['ASF356'].base_model.metabolites.get_by_id('cpd00374_c')"
   ]
  }
 ],
 "metadata": {
  "kernelspec": {
   "display_name": "cobra6",
   "language": "python",
   "name": "cobra6"
  },
  "language_info": {
   "codemirror_mode": {
    "name": "ipython",
    "version": 3
   },
   "file_extension": ".py",
   "mimetype": "text/x-python",
   "name": "python",
   "nbconvert_exporter": "python",
   "pygments_lexer": "ipython3",
   "version": "3.5.2"
  }
 },
 "nbformat": 4,
 "nbformat_minor": 2
}
