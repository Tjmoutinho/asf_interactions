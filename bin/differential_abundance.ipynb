{
 "cells": [
  {
   "cell_type": "code",
   "execution_count": 1,
   "metadata": {
    "collapsed": true
   },
   "outputs": [],
   "source": [
    "library(plyr)"
   ]
  },
  {
   "cell_type": "code",
   "execution_count": 2,
   "metadata": {
    "collapsed": true
   },
   "outputs": [],
   "source": [
    "## Use the same data reading procedure as in metabolome heatmap script.\n",
    "\n",
    "# Load integrals, peak ranges, and sample data\n",
    "path <- \"~/Documents/Projects/asf_interactions/data/\"\n",
    "integral_file <- 'integrals_20170323.txt'\n",
    "integral_range_file <- 'coculture_peak_ranges.txt'\n",
    "integrals = read.table(paste0(path,integral_file),header=FALSE,\n",
    "                         sep = \",\")\n",
    "integral_ranges = read.table(paste0(path,integral_range_file),header=TRUE,\n",
    "                             sep = \",\")\n",
    "master <- read.table(file=paste0(path,\"merged_metadata.txt\"),header=TRUE,sep='\\t')\n",
    "\n",
    "# set column names of integrals using integral_ranges met names\n",
    "colnames(integrals) <- integral_ranges$met_name\n",
    "mets = colnames(integrals)\n",
    "# Set rownames using experiment_id. This should be ordered correctly.\n",
    "integrals$experiment_id <- master$experiment_id\n",
    "# merge so that classes and integrals are in one dataframe\n",
    "all_data <- join(master,integrals,by=\"experiment_id\")\n",
    "\n",
    "# remove non-growing samples from the data\n",
    "# 500 and 492 did not grow in experiment 3\n",
    "# 502 did not grow in experiment 2 or 3\n",
    "all_data = all_data[!(all_data$Run == 2 & grepl('502',all_data$species)),]\n",
    "all_data = all_data[!(all_data$Run == 3 & grepl('502',all_data$species)),]\n",
    "all_data = all_data[!(all_data$Run == 3 & grepl('500',all_data$species)),]\n",
    "all_data = all_data[!(all_data$Run == 3 & grepl('492',all_data$species)),]\n",
    "# remove experiment 4 (3-species subset including only 356,361,519)\n",
    "all_data = all_data[all_data$Run != \"4\",]"
   ]
  },
  {
   "cell_type": "markdown",
   "metadata": {},
   "source": [
    "Below, we test the DNA abundance data from qPCR for normality in all conditions, and for differential abundance between mono- and co-culture. We use the two-sided Mann-Whitney test and control the false discovery rate using the Benjamini-Hochberg (BH) procedure. For the group size for correction with BH, we use only samples containing the species being tested (e.g. only co-cultures that contain that species). "
   ]
  },
  {
   "cell_type": "code",
   "execution_count": 3,
   "metadata": {
    "collapsed": false
   },
   "outputs": [
    {
     "name": "stdout",
     "output_type": "stream",
     "text": [
      "356 vs. 356,360 356 vs. 356,500 356 vs. 356,502 356 vs. 356,492 356 vs. 356,361 \n",
      "             45              34              21              24              81 \n",
      "356 vs. 356,519 \n",
      "             15 \n",
      "356 vs. 356,360 356 vs. 356,500 356 vs. 356,502 356 vs. 356,492 356 vs. 356,361 \n",
      "    0.775624376     0.683916084     0.418181818     0.775624376     0.000246812 \n",
      "356 vs. 356,519 \n",
      "    0.073303167 \n",
      "360 vs. 356,360 360 vs. 360,500 360 vs. 360,492 360 vs. 360,502 360 vs. 360,361 \n",
      "             81              36              44               0              81 \n",
      "360 vs. 360,519 \n",
      "             74 \n",
      "360 vs. 356,360 360 vs. 360,500 360 vs. 360,492 360 vs. 360,502 360 vs. 360,361 \n",
      "    0.000123406     0.327672328     0.059460539     0.013636364     0.000123406 \n",
      "360 vs. 360,519 \n",
      "    0.003702180 \n",
      "361 vs. 360,361 361 vs. 361,492 361 vs. 361,500 361 vs. 356,361 361 vs. 361,519 \n",
      "             22               4               0              47              14 \n",
      "361 vs. 361,502 \n",
      "              3 \n",
      "361 vs. 360,361 361 vs. 361,492 361 vs. 361,500 361 vs. 356,361 361 vs. 361,519 \n",
      "    0.136190868     0.014385614     0.002397602     0.604812834     0.037515426 \n",
      "361 vs. 361,502 \n",
      "    0.095454545 \n",
      "492 vs. 492,502 492 vs. 360,492 492 vs. 492,500 492 vs. 492,519 492 vs. 361,492 \n",
      "             11              33              31              36              36 \n",
      "492 vs. 356,492 \n",
      "             36 \n",
      "492 vs. 492,502 492 vs. 360,492 492 vs. 492,500 492 vs. 492,519 492 vs. 361,492 \n",
      "    0.714285714     0.022727273     0.049350649     0.004329004     0.004329004 \n",
      "492 vs. 356,492 \n",
      "    0.004329004 \n",
      "500 vs. 500,519 500 vs. 356,500 500 vs. 360,500 500 vs. 492,500 500 vs. 500,502 \n",
      "             36              36              36              36              13 \n",
      "500 vs. 361,500 \n",
      "             36 \n",
      "500 vs. 500,519 500 vs. 356,500 500 vs. 360,500 500 vs. 492,500 500 vs. 500,502 \n",
      "    0.002597403     0.002597403     0.002597403     0.002597403     0.380952381 \n",
      "500 vs. 361,500 \n",
      "    0.002597403 \n",
      "502 vs. 492,502 502 vs. 360,502 502 vs. 356,502 502 vs. 500,502 502 vs. 502,519 \n",
      "              9               9               9               4               9 \n",
      "502 vs. 361,502 \n",
      "              9 \n",
      "502 vs. 492,502 502 vs. 360,502 502 vs. 356,502 502 vs. 500,502 502 vs. 502,519 \n",
      "           0.12            0.12            0.12            1.00            0.12 \n",
      "502 vs. 361,502 \n",
      "           0.12 \n",
      "519 vs. 500,519 519 vs. 492,519 519 vs. 356,519 519 vs. 502,519 519 vs. 361,519 \n",
      "             32               9              44              22              72 \n",
      "519 vs. 360,519 \n",
      "             43 \n",
      "519 vs. 500,519 519 vs. 492,519 519 vs. 356,519 519 vs. 502,519 519 vs. 361,519 \n",
      "     0.86330728      0.10789211      0.86330728      0.29090909      0.02394077 \n",
      "519 vs. 360,519 \n",
      "     0.86330728 \n"
     ]
    }
   ],
   "source": [
    "# Test for differential DNA abundance\n",
    "# positive t-statistic means the MONOCULTURE had HIGHER abundance than the co-culture being tested.\n",
    "# (i.e. coculture had negative impact on growth)\n",
    "\n",
    "# Test all groups for normality in DNA abundance\n",
    "# For Shapiro-wilks test, the null hypothesis is that the population is normally distributed.\n",
    "# Therefore, if p < threshold, the population in NOT normally distributed\n",
    "all_normality_results = data.frame()\n",
    "path <- \"~/Documents/Projects/asf_interactions/results/\"\n",
    "species_list = c('356','360','361','492','500','502','519')\n",
    "for (species_tested in species_list) {\n",
    "  # subset the master dataframe by cultures that included species and are from experiments 1, 2, and 3\n",
    "  contains_species = all_data[grepl(species_tested,all_data$species),]\n",
    "  contains_species = contains_species[contains_species$Run %in% c(1,2,3),]\n",
    "  contains_species = droplevels(contains_species)\n",
    "    \n",
    "  # get the correct qPCR probe for the species being tested\n",
    "  qPCR_column = colnames(contains_species)[grepl(species_tested,colnames(contains_species))]\n",
    "  unique_combos = as.character(unique(contains_species$species)[!(unique(contains_species$species) %in% c(species_tested))])\n",
    "  \n",
    "  # for each unique combo, perform the t test\n",
    "  x = contains_species[contains_species$species == species_tested,][,qPCR_column]\n",
    "  x_shapiro_result = shapiro.test(x)\n",
    "  \n",
    "  results = lapply(seq_along(unique_combos), function (n) {\n",
    "    y = contains_species[contains_species$species == unique_combos[n],][,qPCR_column]\n",
    "    result = wilcox.test(x,y)\n",
    "    return(result)})\n",
    " \n",
    "  y_shapiro_results = lapply(seq_along(unique_combos), function (n) {\n",
    "    y = contains_species[contains_species$species == unique_combos[n],][,qPCR_column]\n",
    "    result = shapiro.test(y)\n",
    "    return(result)})\n",
    "                             \n",
    "  names(results) <- paste(matrix(species_tested, ncol = 2, byrow = TRUE)[,1], matrix(unlist(unique_combos), ncol = 1, byrow = TRUE), sep = \" vs. \")\n",
    "  names(y_shapiro_results) <- paste(matrix(species_tested, ncol = 2, byrow = TRUE)[,1], matrix(unlist(unique_combos), ncol = 1, byrow = TRUE), sep = \" vs. \")\n",
    "  \n",
    "  # generate vector of p values for multiple testing correction\n",
    "  p_init = numeric()\n",
    "  p_vector = c(p_init)\n",
    "  t_stat_init = numeric()\n",
    "  t_stat_vector = c(t_stat_init)\n",
    "  for (i in 1:length(names(results))) {\n",
    "    p_vector = c(p_vector,results[[names(results)[i]]]$p.value)\n",
    "    t_stat_vector = c(t_stat_vector,results[[names(results)[i]]]$statistic)\n",
    "  }\n",
    "  names(p_vector) = names(results)\n",
    "  names(t_stat_vector) = names(results)\n",
    "  \n",
    "  # perform the correction\n",
    "  final_p = p.adjust(p_vector,method=\"BH\")\n",
    "  print(t_stat_vector)\n",
    "  print(final_p)\n",
    "  resultframe = data.frame(final_p,t_stat_vector)\n",
    "  \n",
    "  # save the results\n",
    "  write.table(resultframe,file=paste0(path,paste0(species_tested,\"_diff_abundance.txt\")),row.names=TRUE,sep='\\t')\n",
    "  \n",
    "  ## compile the normality testing results\n",
    "  # make placeholder vectors, then add the monoculture result\n",
    "  p_init = numeric()\n",
    "  p_vector = c(p_init)\n",
    "  shapiro_stat_init = numeric()\n",
    "  shapiro_stat_vector = c(t_stat_init)\n",
    "  for (i in 1:length(names(y_shapiro_results))) {\n",
    "    p_vector = c(p_vector,results[[names(y_shapiro_results)[i]]]$p.value)\n",
    "    shapiro_stat_vector = c(shapiro_stat_vector,y_shapiro_results[[names(y_shapiro_results)[i]]]$statistic)\n",
    "  }\n",
    "  names(p_vector) = names(y_shapiro_results)\n",
    "  names(shapiro_stat_vector) = names(y_shapiro_results)\n",
    "  resultframe = data.frame(p_vector,shapiro_stat_vector)\n",
    "\n",
    "  # add the monoculture test result\n",
    "  single = data.frame(x_shapiro_result$p.value,x_shapiro_result$statistic)\n",
    "  rownames(single) = species_tested\n",
    "  colnames(single) = colnames(resultframe)\n",
    "  resultframe = rbind(resultframe,single)\n",
    "  \n",
    "  # combine with the existing normality test results\n",
    "  all_normality_results = rbind(all_normality_results,resultframe)\n",
    "  \n",
    "}\n",
    "write.table(resultframe,file=paste0(path,paste0(\"DNA_abundance_normality_tests.txt\")),row.names=TRUE,sep='\\t')\n"
   ]
  },
  {
   "cell_type": "code",
   "execution_count": 4,
   "metadata": {
    "collapsed": false
   },
   "outputs": [
    {
     "name": "stdout",
     "output_type": "stream",
     "text": [
      "[1] 49  2\n",
      "[1] 23  2\n"
     ]
    }
   ],
   "source": [
    "# How many conditions had normal distributions?\n",
    "print(dim(all_normality_results))\n",
    "print(dim(all_normality_results[all_normality_results$p_vector < 0.05,]))"
   ]
  },
  {
   "cell_type": "markdown",
   "metadata": {},
   "source": [
    "The only monoculture in which non-normality appears is for ASF492, but >50% of the co-culture conditions appear to be non-normally distributed. Thus, we will not assume normality is present in the population for both groups in each comparison, thus a t-test is not appropriate."
   ]
  },
  {
   "cell_type": "code",
   "execution_count": 5,
   "metadata": {
    "collapsed": false
   },
   "outputs": [
    {
     "name": "stdout",
     "output_type": "stream",
     "text": [
      "[1] 86  3\n",
      "[1] 3 3\n",
      "[1] 602   4\n",
      "[1] 512   4\n"
     ]
    }
   ],
   "source": [
    "# Test for normality in the metabolomics data for monocultures\n",
    "species_list = c('356','360','361','492','500','502','519')\n",
    "# get metabolite abundances for blanks\n",
    "blanks = all_data[all_data$species == \"0\",]\n",
    "\n",
    "# first, test for normality in the blanks.\n",
    "contains_species = all_data[all_data$species==\"0\",]\n",
    "contains_species = droplevels(contains_species)\n",
    "\n",
    "# for each metabolite, perform a shapiro-wilks test of normality\n",
    "met_p_init = numeric()\n",
    "met_ps = (met_p_init)\n",
    "met_t_init = numeric()\n",
    "met_ts = c(met_t_init)\n",
    "met_order_init = character()\n",
    "met_order = c(met_order_init)\n",
    "for (met in mets) {\n",
    "  result = shapiro.test(contains_species[,met])\n",
    "  met_ps = c(met_ps,result$p.value)\n",
    "  met_ts = c(met_ts,result$statistic)\n",
    "  met_order = c(met_order,met)\n",
    "}\n",
    "\n",
    "# save the results and print values to get the number of metabolites for which the null was rejected\n",
    "blank_normality_test = data.frame(met_ps,met_ts,met_order)\n",
    "write.table(blank_normality_test,file=paste0(path,paste0(\"blank_metabolite_normality_tests.txt\")),row.names=TRUE,sep='\\t')\n",
    "print(dim(blank_normality_test))\n",
    "print(dim(blank_normality_test[blank_normality_test$met_ps < 0.05,]))\n",
    "\n",
    "# initialize empty variable to bind new results dataframes to\n",
    "all_met_tests = NULL\n",
    "for (species_tested in species_list) {\n",
    "  # subset the master dataframe by cultures that were monocultures of the species\n",
    "  contains_species = all_data[grepl(species_tested,all_data$species),]\n",
    "  contains_species = droplevels(contains_species)\n",
    "    \n",
    "  # for each metabolite, perform a shapiro-wilks test of normality\n",
    "  met_p_init = numeric()\n",
    "  met_ps = (met_p_init)\n",
    "  met_shapiro_init = numeric()\n",
    "  met_shapiros = c(met_t_init)\n",
    "  met_order_init = character()\n",
    "  met_order = c(met_order_init)\n",
    "  for (met in mets) {\n",
    "    result = shapiro.test(contains_species[,met])\n",
    "    met_ps = c(met_ps,result$p.value)\n",
    "    met_shapiros = c(met_shapiros,result$statistic)\n",
    "    met_order = c(met_order,met)\n",
    "  }\n",
    "  \n",
    "  # make new df from test results\n",
    "  collapse = data.frame(met_ps,met_shapiros,met_order,species_tested)\n",
    "  all_met_tests = rbind(collapse,all_met_tests)\n",
    "  \n",
    "}\n",
    "\n",
    "write.table(all_met_tests,file=paste0(path,paste0(\"all_metabolite_normality_tests.txt\")),row.names=TRUE,sep='\\t')\n",
    "print(dim(all_met_tests))\n",
    "print(dim(all_met_tests[all_met_tests$met_ps < 0.05,]))"
   ]
  },
  {
   "cell_type": "code",
   "execution_count": 6,
   "metadata": {
    "collapsed": false
   },
   "outputs": [
    {
     "data": {
      "text/html": [
       "<ol class=list-inline>\n",
       "\t<li>2494</li>\n",
       "\t<li>7</li>\n",
       "</ol>\n"
      ],
      "text/latex": [
       "\\begin{enumerate*}\n",
       "\\item 2494\n",
       "\\item 7\n",
       "\\end{enumerate*}\n"
      ],
      "text/markdown": [
       "1. 2494\n",
       "2. 7\n",
       "\n",
       "\n"
      ],
      "text/plain": [
       "[1] 2494    7"
      ]
     },
     "metadata": {},
     "output_type": "display_data"
    },
    {
     "data": {
      "text/html": [
       "<ol class=list-inline>\n",
       "\t<li>1791</li>\n",
       "\t<li>7</li>\n",
       "</ol>\n"
      ],
      "text/latex": [
       "\\begin{enumerate*}\n",
       "\\item 1791\n",
       "\\item 7\n",
       "\\end{enumerate*}\n"
      ],
      "text/markdown": [
       "1. 1791\n",
       "2. 7\n",
       "\n",
       "\n"
      ],
      "text/plain": [
       "[1] 1791    7"
      ]
     },
     "metadata": {},
     "output_type": "display_data"
    }
   ],
   "source": [
    "# test for differential metabolite abundance in each culture group vs. blank\n",
    "# get metabolite abundances for blanks\n",
    "blanks = all_data[all_data$species == \"0\",]\n",
    "# initialize empty variable to bind new results dataframes to\n",
    "all_met_tests = NULL\n",
    "for (species_tested in unique(all_data$species)) {\n",
    "  # subset the master dataframe by cultures that contain the species of interest\n",
    "  contains_species = all_data[grepl(species_tested,all_data$species),]\n",
    "  contains_species = droplevels(contains_species)\n",
    "  \n",
    "  # for each metabolite, perform a t-test of monoculture vs. blank\n",
    "  met_p_init = numeric()\n",
    "  met_ps = (met_p_init)\n",
    "  met_t_init = numeric()\n",
    "  met_ts = c(met_t_init)\n",
    "  met_order_init = character()\n",
    "  met_order = c(met_order_init)\n",
    "  diff_avg_init = numeric()\n",
    "  diff_avgs = c(diff_avg_init)\n",
    "  blank_avg_init = numeric()\n",
    "  blank_avgs = c(blank_avg_init)\n",
    "  group_avg_init = numeric()\n",
    "  group_avgs = c(group_avg_init)\n",
    "  for (met in mets) {\n",
    "    result = wilcox.test(contains_species[,met],blanks[,met],exact=FALSE)\n",
    "    met_ps = c(met_ps,result$p.value)\n",
    "    met_ts = c(met_ts,result$statistic)\n",
    "    diff_avgs = c(diff_avgs,mean(contains_species[,met]) - mean(blanks[,met]))\n",
    "    blank_avgs = c(blank_avgs,mean(blanks[,met]))\n",
    "    group_avgs = c(group_avgs,mean(contains_species[,met]))\n",
    "    met_order = c(met_order,met)\n",
    "  }\n",
    "  \n",
    "  # make new df from p,t,met, and combo\n",
    "  collapse = data.frame(met_ps,met_ts,diff_avgs,blank_avgs,group_avgs,met_order,species_tested)\n",
    "  all_met_tests = rbind(collapse,all_met_tests)\n",
    "  \n",
    "}\n",
    "\n",
    "# FDR correct the p values\n",
    "all_met_tests$met_ps = p.adjust(all_met_tests$met_ps,method=\"BH\")\n",
    "# save the result\n",
    "write.table(all_met_tests,file=paste0(path,\"all_vs_blank_diff_metabolites.txt\"),row.names=FALSE,sep='\\t')\n",
    "\n",
    "# How many metabolites were differentially abundant?\n",
    "dim(all_met_tests)\n",
    "dim(all_met_tests[all_met_tests$met_ps < 0.05,])"
   ]
  }
 ],
 "metadata": {
  "kernelspec": {
   "display_name": "R",
   "language": "R",
   "name": "ir"
  },
  "language_info": {
   "codemirror_mode": "r",
   "file_extension": ".r",
   "mimetype": "text/x-r-source",
   "name": "R",
   "pygments_lexer": "r",
   "version": "3.4.2"
  }
 },
 "nbformat": 4,
 "nbformat_minor": 2
}
