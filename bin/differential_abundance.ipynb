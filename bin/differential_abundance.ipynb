{
 "cells": [
  {
   "cell_type": "code",
   "execution_count": 1,
   "metadata": {
    "collapsed": true
   },
   "outputs": [],
   "source": [
    "library(plyr)"
   ]
  },
  {
   "cell_type": "code",
   "execution_count": 2,
   "metadata": {
    "collapsed": true
   },
   "outputs": [],
   "source": [
    "## Use the same data reading procedure as in metabolome heatmap script.\n",
    "\n",
    "# Load integrals, peak ranges, and sample data\n",
    "path <- \"~/Documents/Projects/asf_interactions/data/\"\n",
    "integral_file <- 'integrals_20170323.txt'\n",
    "integral_range_file <- 'coculture_peak_ranges.txt'\n",
    "integrals = read.table(paste0(path,integral_file),header=FALSE,\n",
    "                         sep = \",\")\n",
    "integral_ranges = read.table(paste0(path,integral_range_file),header=TRUE,\n",
    "                             sep = \",\")\n",
    "master <- read.table(file=paste0(path,\"merged_metadata.txt\"),header=TRUE,sep='\\t')\n",
    "\n",
    "# set column names of integrals using integral_ranges met names\n",
    "colnames(integrals) <- integral_ranges$met_name\n",
    "mets = colnames(integrals)\n",
    "# Set rownames using experiment_id. This should be ordered correctly.\n",
    "integrals$experiment_id <- master$experiment_id\n",
    "# merge so that classes and integrals are in one dataframe\n",
    "all_data <- join(master,integrals,by=\"experiment_id\")\n",
    "\n",
    "# remove non-growing samples from the data\n",
    "# 500 and 492 did not grow in experiment 3\n",
    "# 502 did not grow in experiment 2 or 3\n",
    "all_data = all_data[!(all_data$Run == 2 & grepl('502',all_data$species)),]\n",
    "all_data = all_data[!(all_data$Run == 3 & grepl('502',all_data$species)),]\n",
    "all_data = all_data[!(grepl('502',all_data$species)),]\n",
    "all_data = all_data[!(all_data$Run == 3 & grepl('500',all_data$species)),]\n",
    "all_data = all_data[!(all_data$Run == 3 & grepl('492',all_data$species)),]\n",
    "# remove experiment 4 (3-species subset including only 356,361,519)\n",
    "all_data = all_data[all_data$Run != \"4\",]"
   ]
  },
  {
   "cell_type": "markdown",
   "metadata": {},
   "source": [
    "Below, we test the DNA abundance data from qPCR for normality in all conditions, and for differential abundance between mono- and co-culture. We use the two-sided Mann-Whitney test and control the false discovery rate using the Benjamini-Hochberg (BH) procedure. For the group size for correction with BH, we use only samples containing the species being tested (e.g. only co-cultures that contain that species). "
   ]
  },
  {
   "cell_type": "code",
   "execution_count": 3,
   "metadata": {
    "collapsed": false
   },
   "outputs": [
    {
     "name": "stdout",
     "output_type": "stream",
     "text": [
      "356 vs. 356,360 356 vs. 356,500 356 vs. 356,492 356 vs. 356,361 356 vs. 356,519 \n",
      "             45              34              24              81              15 \n",
      "356 vs. 356,360 356 vs. 356,500 356 vs. 356,492 356 vs. 356,361 356 vs. 356,519 \n",
      "   0.7756243756    0.7599067599    0.7756243756    0.0002056767    0.0610859729 \n",
      "360 vs. 356,360 360 vs. 360,500 360 vs. 360,492 360 vs. 360,361 360 vs. 360,519 \n",
      "             81              36              44              81              74 \n",
      "360 vs. 356,360 360 vs. 360,500 360 vs. 360,492 360 vs. 360,361 360 vs. 360,519 \n",
      "   0.0001028383    0.3276723277    0.0619380619    0.0001028383    0.0030851501 \n",
      "361 vs. 360,361 361 vs. 361,492 361 vs. 361,500 361 vs. 356,361 361 vs. 361,519 \n",
      "             22               4               0              47              14 \n",
      "361 vs. 360,361 361 vs. 361,492 361 vs. 361,500 361 vs. 356,361 361 vs. 361,519 \n",
      "    0.141865487     0.011988012     0.001998002     0.604812834     0.031262855 \n",
      "492 vs. 360,492 492 vs. 492,500 492 vs. 492,519 492 vs. 361,492 492 vs. 356,492 \n",
      "             33              31              36              36              36 \n",
      "492 vs. 360,492 492 vs. 492,500 492 vs. 492,519 492 vs. 361,492 492 vs. 356,492 \n",
      "    0.018939394     0.041125541     0.003607504     0.003607504     0.003607504 \n",
      "500 vs. 500,519 500 vs. 356,500 500 vs. 360,500 500 vs. 492,500 500 vs. 361,500 \n",
      "             36              36              36              36              36 \n",
      "500 vs. 500,519 500 vs. 356,500 500 vs. 360,500 500 vs. 492,500 500 vs. 361,500 \n",
      "    0.002164502     0.002164502     0.002164502     0.002164502     0.002164502 \n",
      "519 vs. 500,519 519 vs. 492,519 519 vs. 356,519 519 vs. 361,519 519 vs. 360,519 \n",
      "             32               9              44              72              43 \n",
      "519 vs. 500,519 519 vs. 492,519 519 vs. 356,519 519 vs. 361,519 519 vs. 360,519 \n",
      "     0.86330728      0.08991009      0.86330728      0.01995064      0.86330728 \n"
     ]
    }
   ],
   "source": [
    "# Test for differential DNA abundance\n",
    "# positive t-statistic means the MONOCULTURE had HIGHER abundance than the co-culture being tested.\n",
    "# (i.e. coculture had negative impact on growth)\n",
    "\n",
    "# Test all groups for normality in DNA abundance\n",
    "# For Shapiro-wilks test, the null hypothesis is that the population is normally distributed.\n",
    "# Therefore, if p < threshold, the population in NOT normally distributed\n",
    "all_normality_results = data.frame()\n",
    "path <- \"~/Documents/Projects/asf_interactions/results/\"\n",
    "species_list = c('356','360','361','492','500','519')\n",
    "for (species_tested in species_list) {\n",
    "  # subset the master dataframe by cultures that included species and are from experiments 1, 2, and 3\n",
    "  contains_species = all_data[grepl(species_tested,all_data$species),]\n",
    "  contains_species = contains_species[contains_species$Run %in% c(1,2,3),]\n",
    "  contains_species = droplevels(contains_species)\n",
    "    \n",
    "  # get the correct qPCR probe for the species being tested\n",
    "  qPCR_column = colnames(contains_species)[grepl(species_tested,colnames(contains_species))]\n",
    "  unique_combos = as.character(unique(contains_species$species)[!(unique(contains_species$species) %in% c(species_tested))])\n",
    "  \n",
    "  # for each unique combo, perform the test\n",
    "  x = contains_species[contains_species$species == species_tested,][,qPCR_column]\n",
    "  x_shapiro_result = shapiro.test(x)\n",
    "  \n",
    "  results = lapply(seq_along(unique_combos), function (n) {\n",
    "    y = contains_species[contains_species$species == unique_combos[n],][,qPCR_column]\n",
    "    result = wilcox.test(x,y)\n",
    "    return(result)})\n",
    "    \n",
    "  # also calculate difference between monoculture mean and co-culture\n",
    "  group_diffs = lapply(seq_along(unique_combos), function (n) {\n",
    "    y = contains_species[contains_species$species == unique_combos[n],][,qPCR_column]\n",
    "    result = mean(x) - mean(y)\n",
    "    return(result)})\n",
    "    \n",
    "    \n",
    "  y_shapiro_results = lapply(seq_along(unique_combos), function (n) {\n",
    "    y = contains_species[contains_species$species == unique_combos[n],][,qPCR_column]\n",
    "    result = shapiro.test(y)\n",
    "    return(result)})\n",
    "                             \n",
    "  names(results) <- paste(matrix(species_tested, ncol = 2, byrow = TRUE)[,1], matrix(unlist(unique_combos), ncol = 1, byrow = TRUE), sep = \" vs. \")\n",
    "  names(group_diffs) <- paste(matrix(species_tested, ncol = 2, byrow = TRUE)[,1], matrix(unlist(unique_combos), ncol = 1, byrow = TRUE), sep = \" vs. \")\n",
    "  names(y_shapiro_results) <- paste(matrix(species_tested, ncol = 2, byrow = TRUE)[,1], matrix(unlist(unique_combos), ncol = 1, byrow = TRUE), sep = \" vs. \")\n",
    "  \n",
    "  # generate vector of p values for multiple testing correction\n",
    "  p_init = numeric()\n",
    "  p_vector = c(p_init)\n",
    "  w_stat_init = numeric()\n",
    "  w_stat_vector = c(w_stat_init)\n",
    "  diff_init = numeric()\n",
    "  diff_vector = c(diff_init)\n",
    "  for (i in 1:length(names(results))) {\n",
    "    p_vector = c(p_vector,results[[names(results)[i]]]$p.value)\n",
    "    w_stat_vector = c(w_stat_vector,results[[names(results)[i]]]$statistic)\n",
    "    diff_vector = c(diff_vector,group_diffs[[names(results)[i]]])\n",
    "  }\n",
    "  names(p_vector) = names(results)\n",
    "  names(w_stat_vector) = names(results)\n",
    "  \n",
    "  # perform the correction\n",
    "  final_p = p.adjust(p_vector,method=\"BH\")\n",
    "  print(w_stat_vector)\n",
    "  print(final_p)\n",
    "  resultframe = data.frame(final_p,w_stat_vector,diff_vector)\n",
    "  \n",
    "  # save the results\n",
    "  write.table(resultframe,file=paste0(path,paste0(species_tested,\"_diff_abundance.txt\")),row.names=TRUE,sep='\\t')\n",
    "  \n",
    "  ## compile the normality testing results\n",
    "  # make placeholder vectors, then add the monoculture result\n",
    "  p_init = numeric()\n",
    "  p_vector = c(p_init)\n",
    "  shapiro_stat_init = numeric()\n",
    "  shapiro_stat_vector = c(w_stat_init)\n",
    "  for (i in 1:length(names(y_shapiro_results))) {\n",
    "    p_vector = c(p_vector,results[[names(y_shapiro_results)[i]]]$p.value)\n",
    "    shapiro_stat_vector = c(shapiro_stat_vector,y_shapiro_results[[names(y_shapiro_results)[i]]]$statistic)\n",
    "  }\n",
    "  names(p_vector) = names(y_shapiro_results)\n",
    "  names(shapiro_stat_vector) = names(y_shapiro_results)\n",
    "  resultframe = data.frame(p_vector,shapiro_stat_vector)\n",
    "\n",
    "  # add the monoculture test result\n",
    "  single = data.frame(x_shapiro_result$p.value,x_shapiro_result$statistic)\n",
    "  rownames(single) = species_tested\n",
    "  colnames(single) = colnames(resultframe)\n",
    "  resultframe = rbind(resultframe,single)\n",
    "  \n",
    "  # combine with the existing normality test results\n",
    "  all_normality_results = rbind(all_normality_results,resultframe)\n",
    "  \n",
    "}\n",
    "write.table(resultframe,file=paste0(path,paste0(\"DNA_abundance_normality_tests.txt\")),row.names=TRUE,sep='\\t')\n"
   ]
  },
  {
   "cell_type": "code",
   "execution_count": 4,
   "metadata": {
    "collapsed": false
   },
   "outputs": [
    {
     "name": "stdout",
     "output_type": "stream",
     "text": [
      "[1] 36  2\n",
      "[1] 22  2\n"
     ]
    }
   ],
   "source": [
    "# How many conditions had normal distributions?\n",
    "print(dim(all_normality_results))\n",
    "print(dim(all_normality_results[all_normality_results$p_vector < 0.05,]))"
   ]
  },
  {
   "cell_type": "markdown",
   "metadata": {},
   "source": [
    "The only monoculture in which non-normality appears is for ASF492, but >50% of the co-culture conditions appear to be non-normally distributed. Thus, we will not assume normality is present in the population for both groups in each comparison, thus a t-test is not appropriate."
   ]
  },
  {
   "cell_type": "code",
   "execution_count": 5,
   "metadata": {
    "collapsed": false
   },
   "outputs": [
    {
     "name": "stdout",
     "output_type": "stream",
     "text": [
      "[1] 86  3\n",
      "[1] 3 3\n",
      "[1] 516   4\n",
      "[1] 431   4\n"
     ]
    }
   ],
   "source": [
    "# Test for normality in the metabolomics data for monocultures\n",
    "species_list = c('356','360','361','492','500','519')\n",
    "# get metabolite abundances for blanks\n",
    "blanks = all_data[all_data$species == \"0\",]\n",
    "\n",
    "# first, test for normality in the blanks.\n",
    "contains_species = all_data[all_data$species==\"0\",]\n",
    "contains_species = droplevels(contains_species)\n",
    "\n",
    "# for each metabolite, perform a shapiro-wilks test of normality\n",
    "met_p_init = numeric()\n",
    "met_ps = (met_p_init)\n",
    "met_t_init = numeric()\n",
    "met_ts = c(met_t_init)\n",
    "met_order_init = character()\n",
    "met_order = c(met_order_init)\n",
    "for (met in mets) {\n",
    "  result = shapiro.test(contains_species[,met])\n",
    "  met_ps = c(met_ps,result$p.value)\n",
    "  met_ts = c(met_ts,result$statistic)\n",
    "  met_order = c(met_order,met)\n",
    "}\n",
    "\n",
    "# save the results and print values to get the number of metabolites for which the null was rejected\n",
    "blank_normality_test = data.frame(met_ps,met_ts,met_order)\n",
    "write.table(blank_normality_test,file=paste0(path,paste0(\"blank_metabolite_normality_tests.txt\")),row.names=TRUE,sep='\\t')\n",
    "print(dim(blank_normality_test))\n",
    "print(dim(blank_normality_test[blank_normality_test$met_ps < 0.05,]))\n",
    "\n",
    "# initialize empty variable to bind new results dataframes to\n",
    "all_met_tests = NULL\n",
    "for (species_tested in species_list) {\n",
    "  # subset the master dataframe by cultures that were monocultures of the species\n",
    "  contains_species = all_data[grepl(species_tested,all_data$species),]\n",
    "  contains_species = droplevels(contains_species)\n",
    "    \n",
    "  # for each metabolite, perform a shapiro-wilks test of normality\n",
    "  met_p_init = numeric()\n",
    "  met_ps = (met_p_init)\n",
    "  met_shapiro_init = numeric()\n",
    "  met_shapiros = c(met_t_init)\n",
    "  met_order_init = character()\n",
    "  met_order = c(met_order_init)\n",
    "  for (met in mets) {\n",
    "    result = shapiro.test(contains_species[,met])\n",
    "    met_ps = c(met_ps,result$p.value)\n",
    "    met_shapiros = c(met_shapiros,result$statistic)\n",
    "    met_order = c(met_order,met)\n",
    "  }\n",
    "  \n",
    "  # make new df from test results\n",
    "  collapse = data.frame(met_ps,met_shapiros,met_order,species_tested)\n",
    "  all_met_tests = rbind(collapse,all_met_tests)\n",
    "  \n",
    "}\n",
    "\n",
    "write.table(all_met_tests,file=paste0(path,paste0(\"all_metabolite_normality_tests.txt\")),row.names=TRUE,sep='\\t')\n",
    "print(dim(all_met_tests))\n",
    "print(dim(all_met_tests[all_met_tests$met_ps < 0.05,]))"
   ]
  },
  {
   "cell_type": "code",
   "execution_count": 6,
   "metadata": {
    "collapsed": false
   },
   "outputs": [
    {
     "name": "stdout",
     "output_type": "stream",
     "text": [
      "[1] 356,360 356,360 356,360 356,360 356,360 356,360 356,360 356,360 356,360\n",
      "30 Levels: 0 356 356,360 356,361 356,361,519 356,492 356,500 ... 519\n",
      "[1] 500,519 500,519 500,519 500,519 500,519 500,519\n",
      "30 Levels: 0 356 356,360 356,361 356,361,519 356,492 356,500 ... 519\n",
      "[1] 356,500 356,500 356,500 356,500 356,500 356,500\n",
      "30 Levels: 0 356 356,360 356,361 356,361,519 356,492 356,500 ... 519\n",
      "[1] 360,500 360,500 360,500 360,500 360,500 360,500\n",
      "30 Levels: 0 356 356,360 356,361 356,361,519 356,492 356,500 ... 519\n",
      "[1] 360,492 360,492 360,492 360,492 360,492 360,492\n",
      "30 Levels: 0 356 356,360 356,361 356,361,519 356,492 356,500 ... 519\n",
      "[1] 356 356 356 356 356 356 356 356 356\n",
      "30 Levels: 0 356 356,360 356,361 356,361,519 356,492 356,500 ... 519\n",
      "[1] 492,500 492,500 492,500 492,500 492,500 492,500\n",
      "30 Levels: 0 356 356,360 356,361 356,361,519 356,492 356,500 ... 519\n",
      "[1] 361 361 361 361 361 361 361 361 361\n",
      "30 Levels: 0 356 356,360 356,361 356,361,519 356,492 356,500 ... 519\n",
      "[1] 360 360 360 360 360 360 360 360 360\n",
      "30 Levels: 0 356 356,360 356,361 356,361,519 356,492 356,500 ... 519\n",
      "[1] 492,519 492,519 492,519 492,519 492,519 492,519\n",
      "30 Levels: 0 356 356,360 356,361 356,361,519 356,492 356,500 ... 519\n",
      "[1] 360,361 360,361 360,361 360,361 360,361 360,361 360,361 360,361 360,361\n",
      "30 Levels: 0 356 356,360 356,361 356,361,519 356,492 356,500 ... 519\n",
      "[1] 492 492 492 492 492 492\n",
      "30 Levels: 0 356 356,360 356,361 356,361,519 356,492 356,500 ... 519\n",
      "[1] 519 519 519 519 519 519 519 519 519\n",
      "30 Levels: 0 356 356,360 356,361 356,361,519 356,492 356,500 ... 519\n",
      "[1] 361,492 361,492 361,492 361,492 361,492 361,492\n",
      "30 Levels: 0 356 356,360 356,361 356,361,519 356,492 356,500 ... 519\n",
      "[1] 361,500 361,500 361,500 361,500 361,500 361,500\n",
      "30 Levels: 0 356 356,360 356,361 356,361,519 356,492 356,500 ... 519\n",
      "[1] 356,492 356,492 356,492 356,492 356,492 356,492\n",
      "30 Levels: 0 356 356,360 356,361 356,361,519 356,492 356,500 ... 519\n",
      "[1] 356,361 356,361 356,361 356,361 356,361 356,361 356,361 356,361 356,361\n",
      "30 Levels: 0 356 356,360 356,361 356,361,519 356,492 356,500 ... 519\n",
      "[1] 500 500 500 500 500 500\n",
      "30 Levels: 0 356 356,360 356,361 356,361,519 356,492 356,500 ... 519\n",
      "[1] 356,519 356,519 356,519 356,519 356,519 356,519 356,519 356,519 356,519\n",
      "30 Levels: 0 356 356,360 356,361 356,361,519 356,492 356,500 ... 519\n",
      "[1] 361,519 361,519 361,519 361,519 361,519 361,519 361,519 361,519 361,519\n",
      "30 Levels: 0 356 356,360 356,361 356,361,519 356,492 356,500 ... 519\n",
      "[1] 360,519 360,519 360,519 360,519 360,519 360,519 360,519 360,519 360,519\n",
      "30 Levels: 0 356 356,360 356,361 356,361,519 356,492 356,500 ... 519\n"
     ]
    },
    {
     "data": {
      "text/html": [
       "<ol class=list-inline>\n",
       "\t<li>1806</li>\n",
       "\t<li>7</li>\n",
       "</ol>\n"
      ],
      "text/latex": [
       "\\begin{enumerate*}\n",
       "\\item 1806\n",
       "\\item 7\n",
       "\\end{enumerate*}\n"
      ],
      "text/markdown": [
       "1. 1806\n",
       "2. 7\n",
       "\n",
       "\n"
      ],
      "text/plain": [
       "[1] 1806    7"
      ]
     },
     "metadata": {},
     "output_type": "display_data"
    },
    {
     "data": {
      "text/html": [
       "<ol class=list-inline>\n",
       "\t<li>1330</li>\n",
       "\t<li>7</li>\n",
       "</ol>\n"
      ],
      "text/latex": [
       "\\begin{enumerate*}\n",
       "\\item 1330\n",
       "\\item 7\n",
       "\\end{enumerate*}\n"
      ],
      "text/markdown": [
       "1. 1330\n",
       "2. 7\n",
       "\n",
       "\n"
      ],
      "text/plain": [
       "[1] 1330    7"
      ]
     },
     "metadata": {},
     "output_type": "display_data"
    }
   ],
   "source": [
    "# test for differential metabolite abundance in each culture group vs. blank\n",
    "# get metabolite abundances for blanks\n",
    "blanks = all_data[all_data$species == \"0\",]\n",
    "species = unique(all_data$species)[!unique(all_data$species) %in% c('0')]\n",
    "# initialize empty variable to bind new results dataframes to\n",
    "all_met_tests = NULL\n",
    "for (species_tested in species) {\n",
    "  # subset the master dataframe by cultures that contain the species of interest\n",
    "  contains_species = all_data[all_data$species ==species_tested,]\n",
    "  print(contains_species$species)\n",
    "  contains_species = droplevels(contains_species)\n",
    "  \n",
    "  # for each metabolite, perform a t-test of monoculture vs. blank\n",
    "  met_p_init = numeric()\n",
    "  met_ps = (met_p_init)\n",
    "  met_t_init = numeric()\n",
    "  met_ts = c(met_t_init)\n",
    "  met_order_init = character()\n",
    "  met_order = c(met_order_init)\n",
    "  diff_avg_init = numeric()\n",
    "  diff_avgs = c(diff_avg_init)\n",
    "  blank_avg_init = numeric()\n",
    "  blank_avgs = c(blank_avg_init)\n",
    "  group_avg_init = numeric()\n",
    "  group_avgs = c(group_avg_init)\n",
    "  for (met in mets) {\n",
    "    result = wilcox.test(contains_species[,met],blanks[,met],exact=FALSE)\n",
    "    met_ps = c(met_ps,result$p.value)\n",
    "    met_ts = c(met_ts,result$statistic)\n",
    "    diff_avgs = c(diff_avgs,mean(contains_species[,met]) - mean(blanks[,met]))\n",
    "    blank_avgs = c(blank_avgs,mean(blanks[,met]))\n",
    "    group_avgs = c(group_avgs,mean(contains_species[,met]))\n",
    "    met_order = c(met_order,met)\n",
    "  }\n",
    "  \n",
    "  # make new df from p,t,met, and combo\n",
    "  collapse = data.frame(met_ps,met_ts,diff_avgs,blank_avgs,group_avgs,met_order,species_tested)\n",
    "  all_met_tests = rbind(collapse,all_met_tests)\n",
    "  \n",
    "}\n",
    "\n",
    "# FDR correct the p values\n",
    "all_met_tests$met_ps = p.adjust(all_met_tests$met_ps,method=\"BH\")\n",
    "# save the result\n",
    "write.table(all_met_tests,file=paste0(path,\"all_vs_blank_diff_metabolites.txt\"),row.names=FALSE,sep='\\t')\n",
    "\n",
    "# How many metabolites were differentially abundant?\n",
    "dim(all_met_tests)\n",
    "dim(all_met_tests[all_met_tests$met_ps < 0.05,])"
   ]
  },
  {
   "cell_type": "code",
   "execution_count": 7,
   "metadata": {
    "collapsed": false
   },
   "outputs": [],
   "source": [
    "# Generate the metrics for the co-culture resource allocation model (CRAM)\n",
    "# center using the mean of blanks\n",
    "blanks = subset(all_data,species == '0')\n",
    "blank_means = colMeans(blanks[,names(blanks) %in% mets])\n",
    "subtracted_integrals = sweep(all_data[,mets], 2, blank_means, `-`)\n",
    "all_data[,mets] = subtracted_integrals"
   ]
  },
  {
   "cell_type": "code",
   "execution_count": 8,
   "metadata": {
    "collapsed": true
   },
   "outputs": [],
   "source": [
    "# calculate metabolite yields for each mono-culture sample by dividing the z-score by species abundance.\n",
    "species_list = c('356','360','361','492','500','519')\n",
    "\n",
    "single_species_all = all_data[all_data$species %in% species_list,]\n",
    "qpcr_cols = colnames(single_species_all)[grep('qpcr',colnames(single_species_all))]\n",
    "# match the species names to the qpcr column and get the per-biomass yield\n",
    "for (species_name in species_list) {\n",
    "  qpcr_name = qpcr_cols[grep(species_name,qpcr_cols)]\n",
    "  single_species_all[single_species_all$species == species_name,][,mets] = single_species_all[single_species_all$species == species_name,][,mets]/single_species_all[single_species_all$species == species_name,][,qpcr_name]\n",
    "}\n",
    "\n",
    "# take the mean yield for each metabolite for each species\n",
    "avg_single_yield = aggregate(single_species_all[,mets], list(single_species_all$species), mean)\n",
    "rownames(avg_single_yield) = avg_single_yield$Group.1\n",
    "avg_single_yield$Group.1 = NULL\n",
    "copy_all_data = all_data\n",
    "# replace NA with 0\n",
    "copy_all_data[is.na(copy_all_data)] = 0\n",
    "copy_all_data[,mets] = 0\n",
    "# derive expected metabolite values using the per-biomass yields and observed biomass in co-culture\n",
    "for (species_name in species_list) {\n",
    "  qpcr_name = qpcr_cols[grep(species_name,qpcr_cols)]\n",
    "  copy_all_data[,mets] = copy_all_data[,mets] + as.matrix(copy_all_data[,qpcr_name])%*%as.matrix(avg_single_yield[species_name,])\n",
    "}\n",
    "\n",
    "# save the calculated expected metabolite values\n",
    "write.table(copy_all_data,file=paste0(path,'expected_metabolite_abundances.tsv'),row.names=FALSE,sep='\\t')\n"
   ]
  },
  {
   "cell_type": "code",
   "execution_count": 9,
   "metadata": {
    "collapsed": true
   },
   "outputs": [],
   "source": [
    "\n",
    "# for each co-culture, generate a predicted metabolite abundance using the following, where\n",
    "# all yields are the average across all monoculture samples:\n",
    "# predicted = yield[species1]*abundance[species1] + yield[species2]*abundance[species2]\n",
    "\n",
    "# now compare each co-culture group in copy_all_data (predictions) to all_data (actual values)\n",
    "# for each metabolite, and report the p adj and t stat.\n",
    "all_combos = unique(copy_all_data$species)\n",
    "all_combos = all_combos[!(all_combos %in% species_list)]\n",
    "all_combos = all_combos[!(all_combos %in% c('0'))]\n",
    "all_combos = droplevels(all_combos)\n",
    "\n",
    "#only test known metabolites\n",
    "#known_mets = mets[-grep(\"unknown\", mets)]\n",
    "\n",
    "\n",
    "all_met_tests = NULL\n",
    "for (combo in all_combos) {\n",
    "  subset_predicted = copy_all_data[copy_all_data$species == combo,mets]\n",
    "  subset_observed = all_data[all_data$species == combo,mets]\n",
    "  combo_p_init = numeric()\n",
    "  combo_ps = (combo_p_init)\n",
    "  combo_t_init = numeric()\n",
    "  combo_ts = c(combo_t_init)\n",
    "  met_order_init = character()\n",
    "  met_order = c(met_order_init)\n",
    "  diff_avg_init = numeric()\n",
    "  diff_avgs = c(diff_avg_init)\n",
    "  observed_avg_init = numeric()\n",
    "  observed_avgs = c(observed_avg_init)\n",
    "  expected_avg_init = numeric()\n",
    "  expected_avgs = c(expected_avg_init)\n",
    "  for (met in mets) {\n",
    "    result = wilcox.test(subset_observed[,met],subset_predicted[,met],exact=FALSE)\n",
    "    combo_ps = c(combo_ps,result$p.value)\n",
    "    combo_ts = c(combo_ts,result$statistic)\n",
    "    diff_avgs = c(diff_avgs,mean(subset_observed[,met]) - mean(subset_predicted[,met]))\n",
    "    observed_avgs = c(observed_avgs,mean(subset_observed[,met]))\n",
    "    expected_avgs = c(expected_avgs,mean(subset_predicted[,met]))\n",
    "    met_order = c(met_order,met)\n",
    "  }\n",
    "  \n",
    "  # make new df from p,t,met, and combo\n",
    "  collapse = data.frame(combo_ps,combo_ts,diff_avgs,observed_avgs,expected_avgs,met_order,combo)\n",
    "  all_met_tests = rbind(collapse,all_met_tests)\n",
    "  \n",
    "    \n",
    "}\n",
    "\n",
    "# FDR correct the p values\n",
    "all_met_tests$combo_ps = p.adjust(all_met_tests$combo_ps,method=\"BH\")\n",
    "# save the result\n",
    "write.table(all_met_tests,file=paste0(path,\"CRAM_all_diff_metabolites.txt\"),row.names=FALSE,sep='\\t')"
   ]
  }
 ],
 "metadata": {
  "kernelspec": {
   "display_name": "R",
   "language": "R",
   "name": "ir"
  },
  "language_info": {
   "codemirror_mode": "r",
   "file_extension": ".r",
   "mimetype": "text/x-r-source",
   "name": "R",
   "pygments_lexer": "r",
   "version": "3.4.2"
  }
 },
 "nbformat": 4,
 "nbformat_minor": 2
}
